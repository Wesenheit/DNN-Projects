{
 "cells": [
  {
   "cell_type": "markdown",
   "id": "91a0c19f",
   "metadata": {
    "id": "91a0c19f"
   },
   "source": [
    "# Sample Efficient Reinforcement Learning - from DQN to (almost) Rainbow\n",
    "### Author: Michal Nauman, Editor: Mateusz Olko\n",
    "\n",
    "In this homework we will expand upon on the Deep Q-Network (DQN) algorithm [(Mnih 2014)](https://www.cs.toronto.edu/~vmnih/docs/dqn.pdf). DQN has been successfully applied to a wide range of environments and has demonstrated strong performance on many tasks. However, several challenges and limitations to the DQN that have been identified in the literature:\n",
    "\n",
    "1. Sample complexity - DQN can require a large number of samples to learn effectively, especially in environments with high-dimensional state spaces or a large number of possible actions\n",
    "2. Convergence - DQN is known to converge to the optimal solution under certain conditions, but the convergence properties of the algorithm are not well understood and it is not guaranteed to converge in all cases\n",
    "3. Overestimation - DQN is known to sometimes overestimate the Q-values of certain actions, which can lead to suboptimal behavior\n",
    "4. Sensitivity to hyperparameters - DQN can be sensitive to the choice of hyperparameters, such as the learning rate, the discount factor, and the exploration scheme.\n",
    "\n",
    "Rainbow algorithm [(Hessel 2017)](https://arxiv.org/pdf/1710.02298.pdf) is a combination of several techniques for improving the performance of the DQN algorithm, which was originally proposed by DeepMind. By combining several techniques, the Rainbow algorithm is able to improve the sample efficiency, stability and  performance of the DQN algorithm. Overall, the Rainbow algorithm represents an important step forward in the development of reinforcement learning algorithms and is often used as a baseline for implementing more complex changes to the RL setup (e.g. [(Schwarzer 2021)](https://arxiv.org/pdf/2007.05929.pdf) or [(Srinivas 2020)](https://arxiv.org/pdf/2004.04136.pdf))\n",
    "\n",
    "In this homework, you will learn to augment a simple DQN implementation with all the components of Rainbow except for distributional Q-learning. To test our implementations, we will use the Lunar Lander environment. Given resources, the environment is easily solved by a vanilla DQN implementation. But we do not have resources. What we have is a budget of:\n",
    "\n",
    "1. 40 000 environment steps\n",
    "2. 35 000 Q-network updates \n",
    "\n",
    "And quite inefficient exploration scheme. As such, our basic DQN implementation will not be enough to solve Lunar Landing problem within the constraints.\n",
    "\n",
    "## Homework scenario and grading\n",
    "\n",
    "We provide you with a basic implementation of the DQN. Your job is to expand it with the following modules:\n",
    "\n",
    "1. Double Q-Learning - [(van Hasselt 2015)](https://arxiv.org/pdf/1509.06461.pdf) **1.5 pkt**\n",
    "2. N-step learning - [(Sutton 1988)](http://incompleteideas.net/papers/sutton-88-with-erratum.pdf) **1.5 pkt**\n",
    "3. Noisy linear layers - [(Fortunato et al. 2017)](https://arxiv.org/pdf/1706.10295.pdf) **1.5 pkt**\n",
    "4. Dueling network architecture - [(Wang et al. 2015)](https://arxiv.org/pdf/1511.06581.pdf) **1.5 pkt**\n",
    "5. Prioritized experience replay - [(Schaul et al. 2015)](https://arxiv.org/pdf/1511.05952.pdf) **1.5 pkt**\n",
    "6. (Almost) Rainbow - [(Hessel 2017)](https://arxiv.org/pdf/1710.02298.pdf) **1.5 pkt**\n",
    "\n",
    "Each module is designed to work independently (i.e. you can implement each individually with DQN). The final task of this homework is to combine all the implemented modules into (almost) Rainbow agent. You get the last point (**1 pkt**) for plotting results for all implemented parts."
   ]
  },
  {
   "cell_type": "markdown",
   "id": "949c29dc",
   "metadata": {
    "id": "949c29dc"
   },
   "source": [
    "We import the necessary modules:"
   ]
  },
  {
   "cell_type": "code",
   "execution_count": 33,
   "id": "d0728d82",
   "metadata": {
    "id": "d0728d82"
   },
   "outputs": [],
   "source": [
    "import os\n",
    "import math\n",
    "import random\n",
    "import time\n",
    "\n",
    "import gym\n",
    "try:\n",
    "  from google.colab import files\n",
    "  IN_COLAB = True\n",
    "  !pip install gym[box2d]\n",
    "except:\n",
    "  IN_COLAB = False\n",
    "\n",
    "import numpy as np\n",
    "import torch\n",
    "import torch.nn as nn\n",
    "import torch.optim as optim\n"
   ]
  },
  {
   "cell_type": "markdown",
   "id": "094e4c1f",
   "metadata": {
    "id": "094e4c1f"
   },
   "source": [
    "We define a simple class for holding the hyperparameters (do not change those!)"
   ]
  },
  {
   "cell_type": "code",
   "execution_count": 34,
   "id": "e1883162",
   "metadata": {
    "id": "e1883162"
   },
   "outputs": [],
   "source": [
    "# do not change!\n",
    "class parse_args:\n",
    "    def __init__(self):\n",
    "        self.gym_id = \"LunarLander-v2\"\n",
    "        self.capacity = 10000\n",
    "        self.init_steps = 10000\n",
    "        self.batch_size = 128\n",
    "        self.hidden_dim = 128\n",
    "        self.learning_rate = 7e-4\n",
    "        self.discount = 0.99\n",
    "        self.samples = 3\n",
    "        self.total_timesteps = 40000\n",
    "        self.target_update_freq = 50\n",
    "        self.evaluate_freq = 1000\n",
    "        self.evaluate_samples = 5\n",
    "        self.anneal_steps = 30000\n",
    "        self.epsilon_limit = 0.01\n",
    "        self.cuda = True\n",
    "        env = gym.make(self.gym_id)\n",
    "        self.state_dim = env.observation_space.shape[0]\n",
    "        self.action_dim = env.action_space.n\n",
    "        self.device = torch.device(\"cuda\" if torch.cuda.is_available() and self.cuda else \"cpu\")\n",
    "        \n",
    "args = parse_args()"
   ]
  },
  {
   "cell_type": "markdown",
   "id": "e0866057",
   "metadata": {
    "id": "e0866057"
   },
   "source": [
    "And two helper functions: one for setting seeds, one for simple orthogonal initialization of linear layers, and one for saving and downloading training results."
   ]
  },
  {
   "cell_type": "code",
   "execution_count": 35,
   "id": "97603d29",
   "metadata": {
    "id": "97603d29"
   },
   "outputs": [],
   "source": [
    "def set_seed_everywhere(env, seed):\n",
    "    torch.manual_seed(seed)\n",
    "    if torch.cuda.is_available():\n",
    "        torch.cuda.manual_seed_all(seed)\n",
    "    np.random.seed(seed)\n",
    "    env.seed(seed)\n",
    "    \n",
    "def weight_init(model):\n",
    "    if isinstance(model, nn.Linear):\n",
    "        nn.init.orthogonal_(model.weight.data)\n",
    "        model.bias.data.fill_(0.0)\n",
    "\n",
    "def download_numpy(filename, data):\n",
    "    np.save(filename, data)\n",
    "    if IN_COLAB:\n",
    "        files.download(filename)"
   ]
  },
  {
   "cell_type": "markdown",
   "id": "32176d86",
   "metadata": {
    "id": "32176d86"
   },
   "source": [
    "## 0. DQN"
   ]
  },
  {
   "cell_type": "markdown",
   "id": "8ed14f18",
   "metadata": {
    "id": "8ed14f18"
   },
   "source": [
    "Deep Q-Network (DQN) [(Mnih 2014)](https://www.cs.toronto.edu/~vmnih/docs/dqn.pdf) is a reinforcement learning algorithm that uses a deep neural network to learn a Q-function, which is a function that estimates the expected return for taking a given action in a given state. The goal of the DQN algorithm is to learn a policy that maximizes the expected return by learning the Q-function and selecting the action with the highest estimated return in each state.\n",
    "\n",
    "The DQN algorithm consists of two main components: a Q-network and an experience buffer. The Q-network is a deep neural network that takes in a state as input and outputs the estimated Q-values for each possible action. The experience buffer is a data structure that stores a set of experiences. The DQN algorithm works by interacting with the environment and storing the experiences in the experience buffer. The Q-network is then trained using a mini-batch of experiences uniformly sampled from the experience buffer. This process is known as experience replay and is used to decorrelate the experiences and to stabilize the learning process. The Q-network is updated using the loss function:\n",
    "\n",
    "$$\n",
    "\\mathcal{L}_{\\theta} = \\frac{1}{B} \\sum_{i=1}^{B} \\bigl( \\mathrm{TD}~(s_i, a_i, s^{'}_{i}) \\bigr)^{2}\n",
    "$$\n",
    "\n",
    "With:\n",
    "\n",
    "$$\n",
    "\\mathrm{TD}~(s_i, a_i, s^{'}_{i}) = Q_{\\theta}~(s_i,a_i) - \\bigl(r_{(s_i,a_i,s_{i}^{'})} + \\gamma ~ \\underset{a^{'}_{i} \\sim \\bar{Q}_{\\theta}}{\\mathrm{max}} ~ \\bar{Q}_{\\theta}~(s_{i}^{'},a_{i}^{'}) \\bigr)\n",
    "$$\n",
    "\n",
    "Where $Q_{\\theta}$ and $\\bar{Q}_{\\theta}$ denote learned and target Q-networks respectively. The target network is a copy of the Q-network that is updated less frequently, and using it to compute the target Q-values helps to stabilize the learning process and improve the performance of the DQN algorithm. Note that to increase stability of training we use Huber loss (smooth_l1_loss) instead of L2.\n",
    "\n",
    "There are several ways to incorporate exploration into the DQN algorithm. One common method is to use an $\\epsilon$-greedy exploration strategy, where the agent takes a random action with probability $\\epsilon$ and takes the action with the highest estimated Q-value with probability $1 - \\epsilon$. The value of $\\epsilon$ is typically decreased over time, so that the agent initially explores more and then gradually shifts towards exploitation as it learns more about the environment.\n",
    "\n",
    "Below, we implement all the components of a basic DQN. We start with the experience buffer - a data structure that stores a set of transitions, where a transition is typically represented as a tuple $(s, a, r, s', t)$, where $s$ is the state, $a$ is the action taken in state $s$, $r$ is the reward received by performing $a$ in $s$ and getting to $s'$, $s'$ is the new state observed after performing $a$ in $s$ and $t$ is the termination boolean (true if $s'$ is terminal). Experience buffers are used to store the experiences of an agent as it interacts with an environment, and are used to train a Q-function, which is a function that estimates the expected return for taking a given action in a given state. We implement **ExperienceBuffer** class using NumPy arrays and we define two methods:\n",
    "\n",
    "1. *add* - adds transition to the buffer\n",
    "2. *sample* - samples a batch of transitions from the buffer"
   ]
  },
  {
   "cell_type": "code",
   "execution_count": 36,
   "id": "53e147c5",
   "metadata": {
    "id": "53e147c5"
   },
   "outputs": [],
   "source": [
    "class ExperienceBuffer:\n",
    "    def __init__(self, args):\n",
    "        self.states = np.zeros((args.capacity, args.state_dim), dtype=np.float32)\n",
    "        self.actions = np.zeros((args.capacity, 1), dtype=np.int64)\n",
    "        self.rewards = np.zeros((args.capacity, 1), dtype=np.float32)\n",
    "        self.next_states = np.zeros((args.capacity, args.state_dim), dtype=np.float32)\n",
    "        self.terminals = np.zeros((args.capacity, 1), dtype=np.int64)\n",
    "        self.full = False\n",
    "        self.idx = 0\n",
    "        self.args = args \n",
    "        \n",
    "    def add(self, state, action, reward, next_state, terminal):\n",
    "        self.states[self.idx, :] = state\n",
    "        self.actions[self.idx, :] = action\n",
    "        self.rewards[self.idx, :] = reward\n",
    "        self.next_states[self.idx, :] = next_state\n",
    "        self.terminals[self.idx, :] = 1 if terminal else 0\n",
    "        self.idx += 1\n",
    "        if self.idx == self.args.capacity:\n",
    "            self.full = True\n",
    "            self.idx = 0\n",
    "            \n",
    "    def sample(self):\n",
    "        idx = np.random.permutation(self.args.capacity)[:self.args.batch_size] if self.full else np.random.permutation(self.idx-1)[:self.args.batch_size]\n",
    "        states = torch.from_numpy(self.states[idx]).to(self.args.device)\n",
    "        actions = torch.from_numpy(self.actions[idx]).to(self.args.device)\n",
    "        rewards = torch.from_numpy(self.rewards[idx]).to(self.args.device)\n",
    "        next_states = torch.from_numpy(self.next_states[idx]).to(self.args.device)\n",
    "        terminals = torch.from_numpy(self.terminals[idx]).long().to(self.args.device)\n",
    "        return states, actions, rewards, next_states, terminals"
   ]
  },
  {
   "cell_type": "markdown",
   "id": "9fdcd965",
   "metadata": {
    "id": "9fdcd965"
   },
   "source": [
    "**QNetwork** class is a simple nn.Module MLP. Note the output size being equal to the amount of actions in the environment."
   ]
  },
  {
   "cell_type": "code",
   "execution_count": 37,
   "id": "e3fb7c14",
   "metadata": {
    "id": "e3fb7c14"
   },
   "outputs": [],
   "source": [
    "class QNetwork(nn.Module):\n",
    "    def __init__(self, args):\n",
    "        super(QNetwork, self).__init__()\n",
    "        self.layers = nn.Sequential(\n",
    "           nn.Linear(args.state_dim, args.hidden_dim), nn.ReLU(),\n",
    "            nn.Linear(args.hidden_dim, args.hidden_dim), nn.ReLU(),\n",
    "            nn.Linear(args.hidden_dim, args.action_dim))\n",
    "        self.apply(weight_init)\n",
    "        \n",
    "    def forward(self, x):\n",
    "        return self.layers(x)"
   ]
  },
  {
   "cell_type": "markdown",
   "id": "03ed7a71",
   "metadata": {
    "id": "03ed7a71"
   },
   "source": [
    "Finally we implement DQN agent. The class has following methods:\n",
    "\n",
    "1. *get_action* - returns action in given state using $\\epsilon$-greedy\n",
    "2. *anneal* - reduces the value of $\\epsilon$ dependent on the training step\n",
    "3. *update* - samples a batch of transitions from the experience buffer and performs a DQN update\n",
    "4. *update_target* - performs a hard update on the target Q network $\\bar{Q}_{\\theta}$\n",
    "5. *evaluate* - performs evaluation of the agent with a greedy policy \n",
    "6. *reset* - resets the agent (used between seeds)"
   ]
  },
  {
   "cell_type": "code",
   "execution_count": 38,
   "id": "28b71037",
   "metadata": {
    "id": "28b71037"
   },
   "outputs": [],
   "source": [
    "class DQN:\n",
    "    def __init__(self, args):\n",
    "        super(DQN, self).__init__()\n",
    "        self.args = args \n",
    "        self.buffer = ExperienceBuffer(self.args)\n",
    "        self.epsilon = 1\n",
    "        self.q_net = QNetwork(self.args).to(self.args.device)\n",
    "        self.q_target = QNetwork(self.args).to(self.args.device)\n",
    "        self.q_target.load_state_dict(self.q_net.state_dict())\n",
    "        self.optimizer = optim.Adam(self.q_net.parameters(), lr=self.args.learning_rate, eps=1e-5)\n",
    "                \n",
    "    def get_action(self, state, exploration=True):\n",
    "        with torch.no_grad():\n",
    "            return np.random.randint(self.args.action_dim) if np.random.sample() < self.epsilon and exploration else torch.argmax(self.q_net(state)).item()\n",
    "\n",
    "    def anneal(self, step):\n",
    "        self.epsilon = ((self.args.epsilon_limit - 1)/self.args.anneal_steps) * step + 1 if step < self.args.anneal_steps else self.epsilon\n",
    "\n",
    "    def update(self):\n",
    "        states, actions, rewards, next_states, terminals = self.buffer.sample()\n",
    "        with torch.no_grad():\n",
    "            q_ns = torch.max(self.q_target(next_states), dim=1)[0].unsqueeze(1)\n",
    "        q_targets = rewards + (1-terminals) * self.args.discount * q_ns\n",
    "        \n",
    "        self.optimizer.zero_grad()\n",
    "        q_values = self.q_net(states).gather(1, actions)\n",
    "        loss = nn.functional.smooth_l1_loss(q_values, q_targets)\n",
    "        loss.backward()\n",
    "        self.optimizer.step()\n",
    "    \n",
    "    def update_target(self):\n",
    "        self.q_target.load_state_dict(self.q_net.state_dict())\n",
    "        \n",
    "    def evaluate(self, samples):\n",
    "        with torch.no_grad():\n",
    "            env_test = gym.make(self.args.gym_id)\n",
    "            eval_reward = 0\n",
    "            for i in range(samples):\n",
    "                state = env_test.reset()\n",
    "                episode_reward = 0\n",
    "                while True:\n",
    "                    action = self.get_action(torch.tensor(state).unsqueeze(0).to(self.args.device), False)\n",
    "                    next_state, reward, terminal, _= env_test.step(action)\n",
    "                    episode_reward += reward\n",
    "                    state = next_state\n",
    "                    if terminal:\n",
    "                        eval_reward += episode_reward/samples\n",
    "                        break\n",
    "        return eval_reward\n",
    "    \n",
    "    def reset(self):\n",
    "        self.buffer = ExperienceBuffer(self.args)\n",
    "        self.epsilon = 1\n",
    "        self.q_net = QNetwork(self.args).to(self.args.device)\n",
    "        self.q_target = QNetwork(self.args).to(self.args.device)\n",
    "        self.q_target.load_state_dict(self.q_net.state_dict())\n",
    "        self.optimizer = optim.Adam(self.q_net.parameters(), lr=self.args.learning_rate, eps=1e-5)"
   ]
  },
  {
   "cell_type": "markdown",
   "id": "f539a644",
   "metadata": {
    "id": "f539a644"
   },
   "source": [
    "Finally, we provide code for agent training:"
   ]
  },
  {
   "cell_type": "code",
   "execution_count": 39,
   "id": "385a9330",
   "metadata": {
    "id": "385a9330"
   },
   "outputs": [],
   "source": [
    "def train_agent(args, agent):\n",
    "    results = np.zeros((args.total_timesteps//args.evaluate_freq, args.samples))\n",
    "    for seed in range(args.samples):\n",
    "        env = gym.make(args.gym_id)\n",
    "        agent.reset()\n",
    "        set_seed_everywhere(env, seed)\n",
    "        state = env.reset()\n",
    "        for step in range(args.total_timesteps):\n",
    "            if step == args.init_steps:\n",
    "                start_time = time.time()\n",
    "            action = agent.get_action(torch.tensor(state).unsqueeze(0).to(args.device))\n",
    "            next_state, reward, terminal, _ = env.step(action)\n",
    "            agent.buffer.add(state, action, reward, next_state, terminal)\n",
    "            agent.anneal(step)\n",
    "            state = next_state\n",
    "            if step >= args.init_steps:\n",
    "                agent.update()\n",
    "                if (step + 1) % args.target_update_freq == 0:\n",
    "                    agent.update_target()\n",
    "                if (step + 1) % args.evaluate_freq == 0:\n",
    "                    eval_reward = agent.evaluate(args.evaluate_samples)\n",
    "                    results[step//args.evaluate_freq, seed] = eval_reward\n",
    "                    print(\"\\rStep: {} Evaluation reward: {:.2f} Samples per second: {:}\".format(step, eval_reward, int((step-args.init_steps)/(time.time()-start_time))), end=\"\")\n",
    "            if terminal:\n",
    "                state = env.reset()\n",
    "                episode_reward = 0\n",
    "    return results"
   ]
  },
  {
   "cell_type": "markdown",
   "id": "ff186311",
   "metadata": {
    "id": "ff186311"
   },
   "source": [
    "Note that you should not change the code above - you should be able to perform all tasks by creating new classes. We train the DQN agent with given hyperparameters and inspect the results:"
   ]
  },
  {
   "cell_type": "code",
   "execution_count": 106,
   "id": "938d29b1",
   "metadata": {
    "id": "938d29b1"
   },
   "outputs": [
    {
     "name": "stdout",
     "output_type": "stream",
     "text": [
      "Step: 39999 Evaluation reward: 110.27 Samples per second: 2284"
     ]
    },
    {
     "data": {
      "text/plain": [
       "-47.69761021546174"
      ]
     },
     "execution_count": 106,
     "metadata": {},
     "output_type": "execute_result"
    }
   ],
   "source": [
    "agent = DQN(args)\n",
    "results_dqn = train_agent(args, agent)\n",
    "download_numpy(\"results_dqn.npy\", results_dqn)\n",
    "results_dqn.mean(1)[10:].mean()\n",
    "#results_dqn.mean(1)"
   ]
  },
  {
   "cell_type": "markdown",
   "id": "3376e3e2",
   "metadata": {
    "id": "3376e3e2"
   },
   "source": [
    "As you can see, the vanilla DQN does not yield optimal performance given the budget and exploration constraints. Below is the first module that you have to add to the DQN algorithm."
   ]
  },
  {
   "cell_type": "markdown",
   "id": "64e5bfc1",
   "metadata": {
    "id": "64e5bfc1"
   },
   "source": [
    "## 1. Double DQN\n",
    "\n",
    "The loss function of vanilla DQN is defined as the average of single transition temporal difference (TD) error over $B$ transitions:\n",
    "\n",
    "$$\n",
    "\\mathcal{L}_{\\theta} = \\frac{1}{B} \\sum_{i=1}^{B} \\bigl( \\mathrm{TD}~(s_i, a_i, s^{'}_{i}) \\bigr)^{2}\n",
    "$$\n",
    "\n",
    "With transitions $(s_i, a_i, s^{'}_{i})$ sampled uniformly from the experience buffer. The transition TD error is defined through Bellman optimality condition:\n",
    "\n",
    "$$\n",
    "\\mathrm{TD}~(s_i, a_i, s^{'}_{i}) = Q_{\\theta}~(s_i,a_i) - \\bigl(r_{(s_i,a_i,s_{i}^{'})} + \\gamma ~ \\underset{a^{'}_{i} \\sim \\bar{Q}_{\\theta}}{\\mathrm{max}} ~ \\bar{Q}_{\\theta}~(s_{i}^{'},a_{i}^{'}) \\bigr)\n",
    "$$\n",
    "\n",
    "Where $Q_{\\theta}$ and $\\bar{Q}_{\\theta}$ denote learned and target Q-networks respectively. In the setup above $a_{i}^{'}$ is chosen via maximum operation over the output of the target Q-network for $s^{'}_{i}$. Using a single network to choose the best action and estimate its Q-value promotes overestimated values. Using such values for supervision leads in turn to general overoptimism of the Q-network and is known to sabotage the training.\n",
    "\n",
    "In Double Deep Q-Network (DDQN) [(van Hasselt 2015)](https://arxiv.org/pdf/1509.06461.pdf) proposes using two Q-networks in the process of target estimation: one Q-network to choose the maximum valued action from (i.e. *argmax*); and the second one to estimate value of the chosen action (i.e. Q-value estimation for the *argmax* result). Authors show that in DDQN estimated Q-values are less likely to be inflated and lead to more stable learning and better policies. We can use $Q_{\\theta}$ and $\\bar{Q}_{\\theta}$ to augment DQN into DDQN: \n",
    "\n",
    "$$\n",
    "\\mathrm{TD}~(s_i, a_i, s^{'}_{i}) = Q_{\\theta}~(s_i,a_i) - \\bigl(r_{(s_i,a_i,s_{i}^{'})} + \\gamma ~ \\bar{Q}_{\\theta}~(s_{i}^{'},\\underset{a^{'}_{i} \\sim Q_{\\theta}}{\\mathrm{argmax}} ~ Q_{\\theta} (s_{i}^{'}, a^{'}_{i})  \\bigr)\n",
    "$$\n",
    "\n",
    "Such definition of DDQN leads to very small code changes w.r.t. vanilla DQN implementation. Although $Q_{\\theta}$ and $\\bar{Q}_{\\theta}$ are not fully decoupled, using them leads to good performance increase without introduction of additional networks."
   ]
  },
  {
   "cell_type": "markdown",
   "id": "19bee972",
   "metadata": {
    "id": "19bee972"
   },
   "source": [
    "### Task 1.1: Implement and train DDQN \n",
    "Implement the *update* method for **DDQN** class (no other method of the base class should be changed): "
   ]
  },
  {
   "cell_type": "code",
   "execution_count": 109,
   "id": "c7b682c0",
   "metadata": {
    "id": "c7b682c0"
   },
   "outputs": [],
   "source": [
    "class DDQN(DQN):\n",
    "    def __init__(self, args):\n",
    "        super(DDQN, self).__init__(args)\n",
    "        \n",
    "    def update(self):\n",
    "        states, actions, rewards, next_states, terminals = self.buffer.sample()\n",
    "        with torch.no_grad():\n",
    "            q_ns_arg = torch.argmax(self.q_net(next_states), dim=1).unsqueeze(1)\n",
    "            q_targets_next=self.q_target(next_states)\n",
    "            q_targets = rewards + (1-terminals) * self.args.discount * q_targets_next.gather(1,q_ns_arg)\n",
    "        self.optimizer.zero_grad()\n",
    "        q_values = self.q_net(states)\n",
    "        loss = nn.functional.smooth_l1_loss(q_values.gather(1,actions), q_targets)\n",
    "        loss.backward()\n",
    "        self.optimizer.step()"
   ]
  },
  {
   "cell_type": "code",
   "execution_count": 129,
   "id": "926c3cc9",
   "metadata": {
    "id": "926c3cc9"
   },
   "outputs": [
    {
     "name": "stdout",
     "output_type": "stream",
     "text": [
      "Step: 32999 Evaluation reward: -47.26 Samples per second: 2293"
     ]
    },
    {
     "ename": "KeyboardInterrupt",
     "evalue": "",
     "output_type": "error",
     "traceback": [
      "\u001b[0;31m---------------------------------------------------------------------------\u001b[0m",
      "\u001b[0;31mKeyboardInterrupt\u001b[0m                         Traceback (most recent call last)",
      "\u001b[0;32m/tmp/ipykernel_15639/3791146523.py\u001b[0m in \u001b[0;36m<cell line: 2>\u001b[0;34m()\u001b[0m\n\u001b[1;32m      1\u001b[0m \u001b[0magent\u001b[0m \u001b[0;34m=\u001b[0m \u001b[0mDDQN\u001b[0m\u001b[0;34m(\u001b[0m\u001b[0margs\u001b[0m\u001b[0;34m)\u001b[0m\u001b[0;34m\u001b[0m\u001b[0;34m\u001b[0m\u001b[0m\n\u001b[0;32m----> 2\u001b[0;31m \u001b[0mresults_dqn1\u001b[0m \u001b[0;34m=\u001b[0m \u001b[0mtrain_agent\u001b[0m\u001b[0;34m(\u001b[0m\u001b[0margs\u001b[0m\u001b[0;34m,\u001b[0m \u001b[0magent\u001b[0m\u001b[0;34m)\u001b[0m\u001b[0;34m\u001b[0m\u001b[0;34m\u001b[0m\u001b[0m\n\u001b[0m\u001b[1;32m      3\u001b[0m \u001b[0mdownload_numpy\u001b[0m\u001b[0;34m(\u001b[0m\u001b[0;34m\"results_dqn1.npy\"\u001b[0m\u001b[0;34m,\u001b[0m \u001b[0mresults_dqn1\u001b[0m\u001b[0;34m)\u001b[0m\u001b[0;34m\u001b[0m\u001b[0;34m\u001b[0m\u001b[0m\n\u001b[1;32m      4\u001b[0m \u001b[0mresults_dqn1\u001b[0m\u001b[0;34m.\u001b[0m\u001b[0mmean\u001b[0m\u001b[0;34m(\u001b[0m\u001b[0;36m1\u001b[0m\u001b[0;34m)\u001b[0m\u001b[0;34m[\u001b[0m\u001b[0;34m-\u001b[0m\u001b[0;36m10\u001b[0m\u001b[0;34m:\u001b[0m\u001b[0;34m]\u001b[0m\u001b[0;34m.\u001b[0m\u001b[0mmean\u001b[0m\u001b[0;34m(\u001b[0m\u001b[0;34m)\u001b[0m\u001b[0;34m\u001b[0m\u001b[0;34m\u001b[0m\u001b[0m\n\u001b[1;32m      5\u001b[0m \u001b[0;31m#results_dqn1.mean(1)\u001b[0m\u001b[0;34m\u001b[0m\u001b[0;34m\u001b[0m\u001b[0m\n",
      "\u001b[0;32m/tmp/ipykernel_15639/2903784601.py\u001b[0m in \u001b[0;36mtrain_agent\u001b[0;34m(args, agent)\u001b[0m\n\u001b[1;32m     19\u001b[0m                     \u001b[0magent\u001b[0m\u001b[0;34m.\u001b[0m\u001b[0mupdate_target\u001b[0m\u001b[0;34m(\u001b[0m\u001b[0;34m)\u001b[0m\u001b[0;34m\u001b[0m\u001b[0;34m\u001b[0m\u001b[0m\n\u001b[1;32m     20\u001b[0m                 \u001b[0;32mif\u001b[0m \u001b[0;34m(\u001b[0m\u001b[0mstep\u001b[0m \u001b[0;34m+\u001b[0m \u001b[0;36m1\u001b[0m\u001b[0;34m)\u001b[0m \u001b[0;34m%\u001b[0m \u001b[0margs\u001b[0m\u001b[0;34m.\u001b[0m\u001b[0mevaluate_freq\u001b[0m \u001b[0;34m==\u001b[0m \u001b[0;36m0\u001b[0m\u001b[0;34m:\u001b[0m\u001b[0;34m\u001b[0m\u001b[0;34m\u001b[0m\u001b[0m\n\u001b[0;32m---> 21\u001b[0;31m                     \u001b[0meval_reward\u001b[0m \u001b[0;34m=\u001b[0m \u001b[0magent\u001b[0m\u001b[0;34m.\u001b[0m\u001b[0mevaluate\u001b[0m\u001b[0;34m(\u001b[0m\u001b[0margs\u001b[0m\u001b[0;34m.\u001b[0m\u001b[0mevaluate_samples\u001b[0m\u001b[0;34m)\u001b[0m\u001b[0;34m\u001b[0m\u001b[0;34m\u001b[0m\u001b[0m\n\u001b[0m\u001b[1;32m     22\u001b[0m                     \u001b[0mresults\u001b[0m\u001b[0;34m[\u001b[0m\u001b[0mstep\u001b[0m\u001b[0;34m//\u001b[0m\u001b[0margs\u001b[0m\u001b[0;34m.\u001b[0m\u001b[0mevaluate_freq\u001b[0m\u001b[0;34m,\u001b[0m \u001b[0mseed\u001b[0m\u001b[0;34m]\u001b[0m \u001b[0;34m=\u001b[0m \u001b[0meval_reward\u001b[0m\u001b[0;34m\u001b[0m\u001b[0;34m\u001b[0m\u001b[0m\n\u001b[1;32m     23\u001b[0m                     \u001b[0mprint\u001b[0m\u001b[0;34m(\u001b[0m\u001b[0;34m\"\\rStep: {} Evaluation reward: {:.2f} Samples per second: {:}\"\u001b[0m\u001b[0;34m.\u001b[0m\u001b[0mformat\u001b[0m\u001b[0;34m(\u001b[0m\u001b[0mstep\u001b[0m\u001b[0;34m,\u001b[0m \u001b[0meval_reward\u001b[0m\u001b[0;34m,\u001b[0m \u001b[0mint\u001b[0m\u001b[0;34m(\u001b[0m\u001b[0;34m(\u001b[0m\u001b[0mstep\u001b[0m\u001b[0;34m-\u001b[0m\u001b[0margs\u001b[0m\u001b[0;34m.\u001b[0m\u001b[0minit_steps\u001b[0m\u001b[0;34m)\u001b[0m\u001b[0;34m/\u001b[0m\u001b[0;34m(\u001b[0m\u001b[0mtime\u001b[0m\u001b[0;34m.\u001b[0m\u001b[0mtime\u001b[0m\u001b[0;34m(\u001b[0m\u001b[0;34m)\u001b[0m\u001b[0;34m-\u001b[0m\u001b[0mstart_time\u001b[0m\u001b[0;34m)\u001b[0m\u001b[0;34m)\u001b[0m\u001b[0;34m)\u001b[0m\u001b[0;34m,\u001b[0m \u001b[0mend\u001b[0m\u001b[0;34m=\u001b[0m\u001b[0;34m\"\"\u001b[0m\u001b[0;34m)\u001b[0m\u001b[0;34m\u001b[0m\u001b[0;34m\u001b[0m\u001b[0m\n",
      "\u001b[0;32m/tmp/ipykernel_15639/3452020059.py\u001b[0m in \u001b[0;36mevaluate\u001b[0;34m(self, samples)\u001b[0m\n\u001b[1;32m     40\u001b[0m                 \u001b[0mepisode_reward\u001b[0m \u001b[0;34m=\u001b[0m \u001b[0;36m0\u001b[0m\u001b[0;34m\u001b[0m\u001b[0;34m\u001b[0m\u001b[0m\n\u001b[1;32m     41\u001b[0m                 \u001b[0;32mwhile\u001b[0m \u001b[0;32mTrue\u001b[0m\u001b[0;34m:\u001b[0m\u001b[0;34m\u001b[0m\u001b[0;34m\u001b[0m\u001b[0m\n\u001b[0;32m---> 42\u001b[0;31m                     \u001b[0maction\u001b[0m \u001b[0;34m=\u001b[0m \u001b[0mself\u001b[0m\u001b[0;34m.\u001b[0m\u001b[0mget_action\u001b[0m\u001b[0;34m(\u001b[0m\u001b[0mtorch\u001b[0m\u001b[0;34m.\u001b[0m\u001b[0mtensor\u001b[0m\u001b[0;34m(\u001b[0m\u001b[0mstate\u001b[0m\u001b[0;34m)\u001b[0m\u001b[0;34m.\u001b[0m\u001b[0munsqueeze\u001b[0m\u001b[0;34m(\u001b[0m\u001b[0;36m0\u001b[0m\u001b[0;34m)\u001b[0m\u001b[0;34m.\u001b[0m\u001b[0mto\u001b[0m\u001b[0;34m(\u001b[0m\u001b[0mself\u001b[0m\u001b[0;34m.\u001b[0m\u001b[0margs\u001b[0m\u001b[0;34m.\u001b[0m\u001b[0mdevice\u001b[0m\u001b[0;34m)\u001b[0m\u001b[0;34m,\u001b[0m \u001b[0;32mFalse\u001b[0m\u001b[0;34m)\u001b[0m\u001b[0;34m\u001b[0m\u001b[0;34m\u001b[0m\u001b[0m\n\u001b[0m\u001b[1;32m     43\u001b[0m                     \u001b[0mnext_state\u001b[0m\u001b[0;34m,\u001b[0m \u001b[0mreward\u001b[0m\u001b[0;34m,\u001b[0m \u001b[0mterminal\u001b[0m\u001b[0;34m,\u001b[0m \u001b[0m_\u001b[0m\u001b[0;34m=\u001b[0m \u001b[0menv_test\u001b[0m\u001b[0;34m.\u001b[0m\u001b[0mstep\u001b[0m\u001b[0;34m(\u001b[0m\u001b[0maction\u001b[0m\u001b[0;34m)\u001b[0m\u001b[0;34m\u001b[0m\u001b[0;34m\u001b[0m\u001b[0m\n\u001b[1;32m     44\u001b[0m                     \u001b[0mepisode_reward\u001b[0m \u001b[0;34m+=\u001b[0m \u001b[0mreward\u001b[0m\u001b[0;34m\u001b[0m\u001b[0;34m\u001b[0m\u001b[0m\n",
      "\u001b[0;32m/tmp/ipykernel_15639/3452020059.py\u001b[0m in \u001b[0;36mget_action\u001b[0;34m(self, state, exploration)\u001b[0m\n\u001b[1;32m     12\u001b[0m     \u001b[0;32mdef\u001b[0m \u001b[0mget_action\u001b[0m\u001b[0;34m(\u001b[0m\u001b[0mself\u001b[0m\u001b[0;34m,\u001b[0m \u001b[0mstate\u001b[0m\u001b[0;34m,\u001b[0m \u001b[0mexploration\u001b[0m\u001b[0;34m=\u001b[0m\u001b[0;32mTrue\u001b[0m\u001b[0;34m)\u001b[0m\u001b[0;34m:\u001b[0m\u001b[0;34m\u001b[0m\u001b[0;34m\u001b[0m\u001b[0m\n\u001b[1;32m     13\u001b[0m         \u001b[0;32mwith\u001b[0m \u001b[0mtorch\u001b[0m\u001b[0;34m.\u001b[0m\u001b[0mno_grad\u001b[0m\u001b[0;34m(\u001b[0m\u001b[0;34m)\u001b[0m\u001b[0;34m:\u001b[0m\u001b[0;34m\u001b[0m\u001b[0;34m\u001b[0m\u001b[0m\n\u001b[0;32m---> 14\u001b[0;31m             \u001b[0;32mreturn\u001b[0m \u001b[0mnp\u001b[0m\u001b[0;34m.\u001b[0m\u001b[0mrandom\u001b[0m\u001b[0;34m.\u001b[0m\u001b[0mrandint\u001b[0m\u001b[0;34m(\u001b[0m\u001b[0mself\u001b[0m\u001b[0;34m.\u001b[0m\u001b[0margs\u001b[0m\u001b[0;34m.\u001b[0m\u001b[0maction_dim\u001b[0m\u001b[0;34m)\u001b[0m \u001b[0;32mif\u001b[0m \u001b[0mnp\u001b[0m\u001b[0;34m.\u001b[0m\u001b[0mrandom\u001b[0m\u001b[0;34m.\u001b[0m\u001b[0msample\u001b[0m\u001b[0;34m(\u001b[0m\u001b[0;34m)\u001b[0m \u001b[0;34m<\u001b[0m \u001b[0mself\u001b[0m\u001b[0;34m.\u001b[0m\u001b[0mepsilon\u001b[0m \u001b[0;32mand\u001b[0m \u001b[0mexploration\u001b[0m \u001b[0;32melse\u001b[0m \u001b[0mtorch\u001b[0m\u001b[0;34m.\u001b[0m\u001b[0margmax\u001b[0m\u001b[0;34m(\u001b[0m\u001b[0mself\u001b[0m\u001b[0;34m.\u001b[0m\u001b[0mq_net\u001b[0m\u001b[0;34m(\u001b[0m\u001b[0mstate\u001b[0m\u001b[0;34m)\u001b[0m\u001b[0;34m)\u001b[0m\u001b[0;34m.\u001b[0m\u001b[0mitem\u001b[0m\u001b[0;34m(\u001b[0m\u001b[0;34m)\u001b[0m\u001b[0;34m\u001b[0m\u001b[0;34m\u001b[0m\u001b[0m\n\u001b[0m\u001b[1;32m     15\u001b[0m \u001b[0;34m\u001b[0m\u001b[0m\n\u001b[1;32m     16\u001b[0m     \u001b[0;32mdef\u001b[0m \u001b[0manneal\u001b[0m\u001b[0;34m(\u001b[0m\u001b[0mself\u001b[0m\u001b[0;34m,\u001b[0m \u001b[0mstep\u001b[0m\u001b[0;34m)\u001b[0m\u001b[0;34m:\u001b[0m\u001b[0;34m\u001b[0m\u001b[0;34m\u001b[0m\u001b[0m\n",
      "\u001b[0;32m~/.local/lib/python3.10/site-packages/torch/nn/modules/module.py\u001b[0m in \u001b[0;36m_call_impl\u001b[0;34m(self, *input, **kwargs)\u001b[0m\n\u001b[1;32m   1192\u001b[0m         if not (self._backward_hooks or self._forward_hooks or self._forward_pre_hooks or _global_backward_hooks\n\u001b[1;32m   1193\u001b[0m                 or _global_forward_hooks or _global_forward_pre_hooks):\n\u001b[0;32m-> 1194\u001b[0;31m             \u001b[0;32mreturn\u001b[0m \u001b[0mforward_call\u001b[0m\u001b[0;34m(\u001b[0m\u001b[0;34m*\u001b[0m\u001b[0minput\u001b[0m\u001b[0;34m,\u001b[0m \u001b[0;34m**\u001b[0m\u001b[0mkwargs\u001b[0m\u001b[0;34m)\u001b[0m\u001b[0;34m\u001b[0m\u001b[0;34m\u001b[0m\u001b[0m\n\u001b[0m\u001b[1;32m   1195\u001b[0m         \u001b[0;31m# Do not call functions when jit is used\u001b[0m\u001b[0;34m\u001b[0m\u001b[0;34m\u001b[0m\u001b[0m\n\u001b[1;32m   1196\u001b[0m         \u001b[0mfull_backward_hooks\u001b[0m\u001b[0;34m,\u001b[0m \u001b[0mnon_full_backward_hooks\u001b[0m \u001b[0;34m=\u001b[0m \u001b[0;34m[\u001b[0m\u001b[0;34m]\u001b[0m\u001b[0;34m,\u001b[0m \u001b[0;34m[\u001b[0m\u001b[0;34m]\u001b[0m\u001b[0;34m\u001b[0m\u001b[0;34m\u001b[0m\u001b[0m\n",
      "\u001b[0;32m/tmp/ipykernel_15639/870480845.py\u001b[0m in \u001b[0;36mforward\u001b[0;34m(self, x)\u001b[0m\n\u001b[1;32m      9\u001b[0m \u001b[0;34m\u001b[0m\u001b[0m\n\u001b[1;32m     10\u001b[0m     \u001b[0;32mdef\u001b[0m \u001b[0mforward\u001b[0m\u001b[0;34m(\u001b[0m\u001b[0mself\u001b[0m\u001b[0;34m,\u001b[0m \u001b[0mx\u001b[0m\u001b[0;34m)\u001b[0m\u001b[0;34m:\u001b[0m\u001b[0;34m\u001b[0m\u001b[0;34m\u001b[0m\u001b[0m\n\u001b[0;32m---> 11\u001b[0;31m         \u001b[0;32mreturn\u001b[0m \u001b[0mself\u001b[0m\u001b[0;34m.\u001b[0m\u001b[0mlayers\u001b[0m\u001b[0;34m(\u001b[0m\u001b[0mx\u001b[0m\u001b[0;34m)\u001b[0m\u001b[0;34m\u001b[0m\u001b[0;34m\u001b[0m\u001b[0m\n\u001b[0m",
      "\u001b[0;32m~/.local/lib/python3.10/site-packages/torch/nn/modules/module.py\u001b[0m in \u001b[0;36m_call_impl\u001b[0;34m(self, *input, **kwargs)\u001b[0m\n\u001b[1;32m   1192\u001b[0m         if not (self._backward_hooks or self._forward_hooks or self._forward_pre_hooks or _global_backward_hooks\n\u001b[1;32m   1193\u001b[0m                 or _global_forward_hooks or _global_forward_pre_hooks):\n\u001b[0;32m-> 1194\u001b[0;31m             \u001b[0;32mreturn\u001b[0m \u001b[0mforward_call\u001b[0m\u001b[0;34m(\u001b[0m\u001b[0;34m*\u001b[0m\u001b[0minput\u001b[0m\u001b[0;34m,\u001b[0m \u001b[0;34m**\u001b[0m\u001b[0mkwargs\u001b[0m\u001b[0;34m)\u001b[0m\u001b[0;34m\u001b[0m\u001b[0;34m\u001b[0m\u001b[0m\n\u001b[0m\u001b[1;32m   1195\u001b[0m         \u001b[0;31m# Do not call functions when jit is used\u001b[0m\u001b[0;34m\u001b[0m\u001b[0;34m\u001b[0m\u001b[0m\n\u001b[1;32m   1196\u001b[0m         \u001b[0mfull_backward_hooks\u001b[0m\u001b[0;34m,\u001b[0m \u001b[0mnon_full_backward_hooks\u001b[0m \u001b[0;34m=\u001b[0m \u001b[0;34m[\u001b[0m\u001b[0;34m]\u001b[0m\u001b[0;34m,\u001b[0m \u001b[0;34m[\u001b[0m\u001b[0;34m]\u001b[0m\u001b[0;34m\u001b[0m\u001b[0;34m\u001b[0m\u001b[0m\n",
      "\u001b[0;32m~/.local/lib/python3.10/site-packages/torch/nn/modules/container.py\u001b[0m in \u001b[0;36mforward\u001b[0;34m(self, input)\u001b[0m\n\u001b[1;32m    202\u001b[0m     \u001b[0;32mdef\u001b[0m \u001b[0mforward\u001b[0m\u001b[0;34m(\u001b[0m\u001b[0mself\u001b[0m\u001b[0;34m,\u001b[0m \u001b[0minput\u001b[0m\u001b[0;34m)\u001b[0m\u001b[0;34m:\u001b[0m\u001b[0;34m\u001b[0m\u001b[0;34m\u001b[0m\u001b[0m\n\u001b[1;32m    203\u001b[0m         \u001b[0;32mfor\u001b[0m \u001b[0mmodule\u001b[0m \u001b[0;32min\u001b[0m \u001b[0mself\u001b[0m\u001b[0;34m:\u001b[0m\u001b[0;34m\u001b[0m\u001b[0;34m\u001b[0m\u001b[0m\n\u001b[0;32m--> 204\u001b[0;31m             \u001b[0minput\u001b[0m \u001b[0;34m=\u001b[0m \u001b[0mmodule\u001b[0m\u001b[0;34m(\u001b[0m\u001b[0minput\u001b[0m\u001b[0;34m)\u001b[0m\u001b[0;34m\u001b[0m\u001b[0;34m\u001b[0m\u001b[0m\n\u001b[0m\u001b[1;32m    205\u001b[0m         \u001b[0;32mreturn\u001b[0m \u001b[0minput\u001b[0m\u001b[0;34m\u001b[0m\u001b[0;34m\u001b[0m\u001b[0m\n\u001b[1;32m    206\u001b[0m \u001b[0;34m\u001b[0m\u001b[0m\n",
      "\u001b[0;32m~/.local/lib/python3.10/site-packages/torch/nn/modules/module.py\u001b[0m in \u001b[0;36m_call_impl\u001b[0;34m(self, *input, **kwargs)\u001b[0m\n\u001b[1;32m   1192\u001b[0m         if not (self._backward_hooks or self._forward_hooks or self._forward_pre_hooks or _global_backward_hooks\n\u001b[1;32m   1193\u001b[0m                 or _global_forward_hooks or _global_forward_pre_hooks):\n\u001b[0;32m-> 1194\u001b[0;31m             \u001b[0;32mreturn\u001b[0m \u001b[0mforward_call\u001b[0m\u001b[0;34m(\u001b[0m\u001b[0;34m*\u001b[0m\u001b[0minput\u001b[0m\u001b[0;34m,\u001b[0m \u001b[0;34m**\u001b[0m\u001b[0mkwargs\u001b[0m\u001b[0;34m)\u001b[0m\u001b[0;34m\u001b[0m\u001b[0;34m\u001b[0m\u001b[0m\n\u001b[0m\u001b[1;32m   1195\u001b[0m         \u001b[0;31m# Do not call functions when jit is used\u001b[0m\u001b[0;34m\u001b[0m\u001b[0;34m\u001b[0m\u001b[0m\n\u001b[1;32m   1196\u001b[0m         \u001b[0mfull_backward_hooks\u001b[0m\u001b[0;34m,\u001b[0m \u001b[0mnon_full_backward_hooks\u001b[0m \u001b[0;34m=\u001b[0m \u001b[0;34m[\u001b[0m\u001b[0;34m]\u001b[0m\u001b[0;34m,\u001b[0m \u001b[0;34m[\u001b[0m\u001b[0;34m]\u001b[0m\u001b[0;34m\u001b[0m\u001b[0;34m\u001b[0m\u001b[0m\n",
      "\u001b[0;32m~/.local/lib/python3.10/site-packages/torch/nn/modules/linear.py\u001b[0m in \u001b[0;36mforward\u001b[0;34m(self, input)\u001b[0m\n\u001b[1;32m    112\u001b[0m \u001b[0;34m\u001b[0m\u001b[0m\n\u001b[1;32m    113\u001b[0m     \u001b[0;32mdef\u001b[0m \u001b[0mforward\u001b[0m\u001b[0;34m(\u001b[0m\u001b[0mself\u001b[0m\u001b[0;34m,\u001b[0m \u001b[0minput\u001b[0m\u001b[0;34m:\u001b[0m \u001b[0mTensor\u001b[0m\u001b[0;34m)\u001b[0m \u001b[0;34m->\u001b[0m \u001b[0mTensor\u001b[0m\u001b[0;34m:\u001b[0m\u001b[0;34m\u001b[0m\u001b[0;34m\u001b[0m\u001b[0m\n\u001b[0;32m--> 114\u001b[0;31m         \u001b[0;32mreturn\u001b[0m \u001b[0mF\u001b[0m\u001b[0;34m.\u001b[0m\u001b[0mlinear\u001b[0m\u001b[0;34m(\u001b[0m\u001b[0minput\u001b[0m\u001b[0;34m,\u001b[0m \u001b[0mself\u001b[0m\u001b[0;34m.\u001b[0m\u001b[0mweight\u001b[0m\u001b[0;34m,\u001b[0m \u001b[0mself\u001b[0m\u001b[0;34m.\u001b[0m\u001b[0mbias\u001b[0m\u001b[0;34m)\u001b[0m\u001b[0;34m\u001b[0m\u001b[0;34m\u001b[0m\u001b[0m\n\u001b[0m\u001b[1;32m    115\u001b[0m \u001b[0;34m\u001b[0m\u001b[0m\n\u001b[1;32m    116\u001b[0m     \u001b[0;32mdef\u001b[0m \u001b[0mextra_repr\u001b[0m\u001b[0;34m(\u001b[0m\u001b[0mself\u001b[0m\u001b[0;34m)\u001b[0m \u001b[0;34m->\u001b[0m \u001b[0mstr\u001b[0m\u001b[0;34m:\u001b[0m\u001b[0;34m\u001b[0m\u001b[0;34m\u001b[0m\u001b[0m\n",
      "\u001b[0;31mKeyboardInterrupt\u001b[0m: "
     ]
    }
   ],
   "source": [
    "agent = DDQN(args)\n",
    "results_dqn1 = train_agent(args, agent)\n",
    "download_numpy(\"results_dqn1.npy\", results_dqn1)\n",
    "results_dqn1.mean(1)[-10:].mean()\n",
    "#results_dqn1.mean(1)"
   ]
  },
  {
   "cell_type": "markdown",
   "id": "004bf3a3",
   "metadata": {
    "id": "004bf3a3"
   },
   "source": [
    "## 2. $\\mathrm{TD}_{n}$ - N-step Q-value estimation\n",
    "\n",
    "$N$-step TD ($\\mathrm{TD}_{n}$) was introduced long before neural network based RL. In regular TD, we supervise the Q-network with single-step reward summed with highest Q-value of the next state. In contrast to that, $\\mathrm{TD}_{n}$ accumulated rewards over $n$ steps and sums it with the highest Q-value of the state that occured after $n$ steps [(Sutton 1988)](http://incompleteideas.net/papers/sutton-88-with-erratum.pdf). Double DQN $\\mathrm{TD}_{n}$ loss is defined by:\n",
    "\n",
    "$$\n",
    "\\mathrm{TD}_{n}(s_i, a_i, s^{'}_{i+n}) = Q_{\\theta}~(s_i,a_i) - \\biggl(\\sum_{k=0}^{n-1} \\gamma^{k} ~ r_{(s_{i+k},a_{i+k},s_{i+k}^{'})} + \\gamma^{n} \\underset{a^{'}_{i+n} \\sim \\bar{Q}_{\\theta}}{\\mathrm{max}} ~ \\bar{Q}_{\\theta}~(s_{i+n}^{'},a_{i+n}^{'}) \\biggr)\n",
    "$$\n",
    "\n",
    "Implementing $\\mathrm{TD}_{n}$ requires changes to the ExperienceBuffer class. We will implement those changes using the **deque** module. This module will store $n$ of the most recent transitions, and will act as an intermediate between agent and buffers main storage. As compared to single step reward and $s_{i}^{'}$ stored by the simple ExperienceBuffer, the main storage of this upgraded buffer should store $n$ step rewards and $s_{i+n}^{'}$."
   ]
  },
  {
   "cell_type": "markdown",
   "id": "f448764d",
   "metadata": {
    "id": "f448764d"
   },
   "source": [
    "### Task 2.1 Implement NStepBuffer\n",
    "Implement *get_nstep* method for **NStepBuffer** class (no other method of base class should be changed). The *get_nstep* method should process current memory and output a tuple of five:\n",
    "* state for which the $\\mathrm{TD}_{n}$ reward was computed,\n",
    "* action chosen in that step in processed trajectory,\n",
    "* $\\mathrm{TD}_{n}$ reward computed using *nstep* rewards,\n",
    "* state reached after *nstep* steps (possibly earlier if terminal state was encountered),\n",
    "* terminal flag, that notifies wheather trajectory has reached terminal state within *nstep* steps."
   ]
  },
  {
   "cell_type": "code",
   "execution_count": null,
   "id": "12560df7",
   "metadata": {
    "id": "12560df7"
   },
   "outputs": [],
   "source": [
    "from collections import deque\n",
    "\n",
    "class NStepBuffer(ExperienceBuffer):\n",
    "    def __init__(self, args, nstep):\n",
    "        super(NStepBuffer, self).__init__(args)\n",
    "        self.memories = deque(maxlen=nstep)\n",
    "        self.nstep = nstep \n",
    "        \n",
    "    def add(self, state, action, reward, next_state, terminal):\n",
    "        terminal_ = 1 if terminal else 0 \n",
    "        memory = (state, action, reward, next_state, terminal_)\n",
    "        self.memories.append(memory)\n",
    "        if len(self.memories) >= self.nstep:\n",
    "            state, action, reward, next_state, terminal = self.get_nstep()\n",
    "            self.states[self.idx, :] = state\n",
    "            self.actions[self.idx, :] = action\n",
    "            self.rewards[self.idx, :] = reward\n",
    "            self.next_states[self.idx, :] = next_state\n",
    "            self.terminals[self.idx, :] = terminal\n",
    "            self.idx += 1\n",
    "            if self.idx == self.args.capacity:\n",
    "                self.full = True\n",
    "                self.idx = 0\n",
    "            \n",
    "    def get_nstep(self):\n",
    "        state=self.memories[0][0]\n",
    "        action=self.memories[0][1]\n",
    "        reward=torch.tensor(list(map(lambda x:x[2],self.memories)))\n",
    "        reward=torch.sum(reward*self.args.discount**torch.arange(0,len(reward)))\n",
    "        next_state=self.memories[-1][3]\n",
    "        terminal=self.memories[-1][4]\n",
    "        return state, action, reward, next_state, terminal"
   ]
  },
  {
   "cell_type": "markdown",
   "id": "34d45601",
   "metadata": {
    "id": "34d45601"
   },
   "source": [
    "### Task 2.2: Implement and train N-step DQN \n",
    "Implement the *update* method for **NStepDQN** class (no other method of base class should be changed): "
   ]
  },
  {
   "cell_type": "code",
   "execution_count": null,
   "id": "0d1cb4c6",
   "metadata": {
    "id": "0d1cb4c6"
   },
   "outputs": [],
   "source": [
    "class NStepDQN(DQN):\n",
    "    def __init__(self, args, nstep=3):\n",
    "        super(NStepDQN, self).__init__(args)\n",
    "        self.nstep = nstep\n",
    "        self.buffer = NStepBuffer(args, nstep)\n",
    "        \n",
    "    def update(self):\n",
    "        states, actions, rewards, next_states, terminals = self.buffer.sample()\n",
    "        with torch.no_grad():\n",
    "            q_ns = torch.max(self.q_target(next_states), dim=1)[0].unsqueeze(1)\n",
    "        q_targets = rewards + (1-terminals) * self.args.discount**self.nstep * q_ns\n",
    "        self.optimizer.zero_grad()\n",
    "        q_values = self.q_net(states).gather(1, actions)\n",
    "        loss = nn.functional.smooth_l1_loss(q_values, q_targets)\n",
    "        loss.backward()\n",
    "        self.optimizer.step()\n",
    "        \n",
    "    def reset(self):\n",
    "        super().reset()\n",
    "        self.buffer = NStepBuffer(self.args, self.nstep)"
   ]
  },
  {
   "cell_type": "code",
   "execution_count": null,
   "id": "e27e7900",
   "metadata": {
    "id": "e27e7900"
   },
   "outputs": [
    {
     "name": "stdout",
     "output_type": "stream",
     "text": [
      "Step: 39999 Evaluation reward: 210.66 Samples per second: 3088"
     ]
    },
    {
     "data": {
      "text/plain": [
       "145.32258180642754"
      ]
     },
     "execution_count": 13,
     "metadata": {},
     "output_type": "execute_result"
    }
   ],
   "source": [
    "agent = NStepDQN(args)\n",
    "results_dqn2 = train_agent(args, agent)\n",
    "download_numpy(\"results_dqn2.npy\", results_dqn2)\n",
    "results_dqn2.mean(1)[-10:].mean()"
   ]
  },
  {
   "cell_type": "markdown",
   "id": "327ef325",
   "metadata": {
    "id": "327ef325"
   },
   "source": [
    "## 3. Noisy Layer Exploration\n",
    "\n",
    "$\\epsilon$-greedy exploration is not well suited for environments that require complex sequences of actions to achieve success. $\\epsilon$ value must be set manually, and finding a good value can be difficult and costly. A value that is too high will result in too much exploration and slow down learning, while a value that is too low will not allow the agent to gather enough information about the environment. Now, we will introduce a different method for exploration.\n",
    "\n",
    "Noisy linear layer, is a type of layer that can be added to a neural network [(Fortunato et al. 2017)](https://arxiv.org/pdf/1706.10295.pdf). These layers add a learned noise to the parameters of the network, which adds stochasticity to the network output. Noisy parameters can induce complex multi-step changes in estimated Q-values and the policy. Noisy linear layers can be more effective than $\\epsilon$-greedy in environments with sparse rewards or long-term dependencies, but they can also be less sample-efficient than well tuned $\\epsilon$-greedy strategy in simpler settings. \n",
    "\n",
    "Regular linear layer has $pq + q$ parameters, where $p$ and $q$ denote number of inputs and outputs in the layer. Denoting weight matrix as $W \\in \\mathbb{R}^{q \\times p}$, bias vector as $B \\in \\mathbb{R}^q$ and layer input as $X \\in \\mathbb{R}^p$, linear layer performs:\n",
    "\n",
    "$$\n",
    "Y = W X + B\n",
    "$$\n",
    "\n",
    "In contrast to that, noisy linear layer is defined as:\n",
    "\n",
    "$$\n",
    "Y = \\bigl( \\mu^W + \\sigma^W \\odot \\epsilon^W \\bigr) X + \\bigl( \\mu^B + \\sigma^B \\odot \\epsilon^B \\bigr)\n",
    "$$\n",
    "\n",
    "where $\\mu^W + \\sigma^W \\odot \\epsilon^W$ and $\\mu^B + \\sigma^B \\odot \\epsilon^B$ replace $W$ and $B$ in the first linear layer equation. The parameters $\\mu^W \\in \\mathbb{R}^{q \\times p}, \\mu^B \\in \\mathbb{R}^q, \\sigma^W \\in \\mathbb{R}^{q \\times p}$ and $\\sigma^B \\in \\mathbb{R}^q$ are learnt jointly via the single Q-network loss; $\\epsilon^W \\in \\mathbb{R}^{q \\times p}$ and $\\epsilon^B \\in \\mathbb{R}^q$ is the random noise. In principle, the random noise can be generated following any distribution, but the authors consider two strategies:\n",
    "\n",
    "1. **Independent Gaussian noise** - We generate each noise entry independently. As such, we perform $pq + q$ calls to the Gaussian noise generator. Simple, but can be costly for big networks\n",
    "\n",
    "2. **Factorised Gaussian noise** - This is a more computationally efficient way that authors use in the original paper. Instead of generating $pq + q$ entries independently, we generate two noise vectors: $\\epsilon^{p}, \\epsilon^{B} \\sim N(0, 1)$. Then, entries to $\\epsilon^W$ are given by:\n",
    "\n",
    "$$\n",
    "\\epsilon^{W}_{i,j} = f(\\epsilon^{p}_{i}) f(\\epsilon^{B}_{j}) \\quad \\text{with} \\quad f(x) = sgn(x) \\sqrt{|x|}.\n",
    "$$"
   ]
  },
  {
   "cell_type": "markdown",
   "id": "18c32694",
   "metadata": {
    "id": "18c32694"
   },
   "source": [
    "### Task 3.1 Implement NoisyLinear layer \n",
    "Implement the **NoisyLinear** class. The parameters of the noisy linear layer should be initialized with a correct initialization scheme (see section 3.2 in [Fortunato et al. 2017](https://arxiv.org/pdf/1706.10295.pdf)). The class should have the following methods:\n",
    "\n",
    "1. *get_noise* - the method should generate $\\epsilon^{W}$ and $\\epsilon^{B}$ using the factorised Gaussian noise procedure\n",
    "2. *forward* - generate noise and perform a forward pass"
   ]
  },
  {
   "cell_type": "code",
   "execution_count": 228,
   "id": "d5caceb9",
   "metadata": {
    "id": "d5caceb9"
   },
   "outputs": [],
   "source": [
    "class NoisyLinear(nn.Module):\n",
    "    def __init__(self, input_size, output_size, std):\n",
    "        super().__init__()\n",
    "        self.w_mu = nn.Parameter(torch.Tensor(output_size, input_size))\n",
    "        self.b_mu = nn.Parameter(torch.Tensor(output_size))\n",
    "        self.sigma_w = nn.Parameter(torch.Tensor(output_size, input_size))\n",
    "        self.sigma_b = nn.Parameter(torch.Tensor(output_size))\n",
    "        self.std=std\n",
    "        nn.init.uniform_(self.w_mu,-np.sqrt(1/input_size),np.sqrt(1/input_size))\n",
    "        nn.init.constant_(self.sigma_w,0.5/np.sqrt(input_size))\n",
    "        nn.init.uniform_(self.b_mu,-np.sqrt(1/input_size),np.sqrt(1/input_size))\n",
    "        nn.init.constant_(self.sigma_b,0.5/np.sqrt(input_size))\n",
    "    def get_device(self):\n",
    "        return self.w_mu.device\n",
    "\n",
    "    def get_noise(self):\n",
    "        w_noise_1=torch.randn(self.w_mu.shape[0],device=self.get_device())\n",
    "        w_noise_2=torch.randn(self.w_mu.shape[1],device=self.get_device())\n",
    "        w_noise_1p=torch.sgn(w_noise_1)*torch.sqrt(torch.abs(w_noise_1))\n",
    "        w_noise_2p=torch.sgn(w_noise_2)*torch.sqrt(torch.abs(w_noise_2))\n",
    "        w_noise=torch.outer(w_noise_1p,w_noise_2p)\n",
    "        b_noise=w_noise_1#torch.randn(self.b_mu.shape,device=self.get_device())\n",
    "        return w_noise, b_noise\n",
    "\n",
    "    def forward(self, x):\n",
    "        w_noise,b_noise=self.get_noise()\n",
    "        W=self.w_mu+self.sigma_w*w_noise\n",
    "        B=self.b_mu+self.sigma_b*b_noise\n",
    "        return torch.matmul(x,W.T)+B\n",
    "\n",
    "\n",
    "class NoisyQNetwork(nn.Module):\n",
    "    def __init__(self, args, std):\n",
    "        super(NoisyQNetwork, self).__init__()\n",
    "        self.layers = nn.Sequential(\n",
    "            nn.Linear(args.state_dim, args.hidden_dim), nn.ReLU(),\n",
    "            NoisyLinear(args.hidden_dim, args.hidden_dim, std), nn.ReLU(),\n",
    "            NoisyLinear(args.hidden_dim, args.action_dim, std))\n",
    "        \n",
    "    def forward(self, x):\n",
    "        return self.layers(x)"
   ]
  },
  {
   "cell_type": "markdown",
   "id": "a9a3c6d8",
   "metadata": {
    "id": "a9a3c6d8"
   },
   "source": [
    "### Task 3.2 Train NoisyDQN with NoisyLayers \n"
   ]
  },
  {
   "cell_type": "code",
   "execution_count": 229,
   "id": "d3511485",
   "metadata": {
    "id": "d3511485"
   },
   "outputs": [],
   "source": [
    "class NoisyDQN(DQN):\n",
    "    def __init__(self, args, std=0.2):\n",
    "        super(NoisyDQN, self).__init__(args)\n",
    "        self.q_net = NoisyQNetwork(args, std).to(args.device)\n",
    "        self.q_target = NoisyQNetwork(args, std).to(args.device)\n",
    "        self.q_target.load_state_dict(self.q_net.state_dict())\n",
    "        self.optimizer = optim.Adam(self.q_net.parameters(), lr=args.learning_rate, eps=1e-5)\n",
    "        self.std = std\n",
    "        \n",
    "    def get_action(self, state, exploration=True):\n",
    "        return torch.argmax(self.q_net(state)).item()\n",
    "\n",
    "    def anneal(self, step):\n",
    "        pass\n",
    "    \n",
    "    def reset(self):\n",
    "        super().reset()\n",
    "        self.q_net = NoisyQNetwork(self.args, self.std).to(self.args.device)\n",
    "        self.q_target = NoisyQNetwork(self.args, self.std).to(self.args.device)\n",
    "        self.q_target.load_state_dict(self.q_net.state_dict())\n",
    "        self.optimizer = optim.Adam(self.q_net.parameters(), lr=self.args.learning_rate, eps=1e-5)"
   ]
  },
  {
   "cell_type": "code",
   "execution_count": 230,
   "id": "efd5e996",
   "metadata": {
    "id": "efd5e996"
   },
   "outputs": [
    {
     "name": "stdout",
     "output_type": "stream",
     "text": [
      "Step: 39999 Evaluation reward: 21.62 Samples per second: 15051"
     ]
    },
    {
     "data": {
      "text/plain": [
       "-0.6027215613235839"
      ]
     },
     "execution_count": 230,
     "metadata": {},
     "output_type": "execute_result"
    }
   ],
   "source": [
    "agent = NoisyDQN(args)\n",
    "results_dqn3 = train_agent(args, agent)\n",
    "download_numpy(\"results_dqn3.npy\", results_dqn3)\n",
    "results_dqn3.mean(1)[-10:].mean()"
   ]
  },
  {
   "cell_type": "markdown",
   "id": "ba25c410",
   "metadata": {
    "id": "ba25c410"
   },
   "source": [
    "## 4. DUELING DQN\n",
    "\n",
    "State-action advantage under policy $\\pi$ is given by:\n",
    "\n",
    "$$\n",
    "A^\\pi (s, a) = Q^\\pi (s, a) - V^\\pi (s)\n",
    "$$\n",
    "\n",
    "Where $A^\\pi (s, a)$ denotes state-action advantage, $Q^\\pi (s, a)$ denotes state-action Q-value and $V^\\pi (s)$ denotes state value. Advantage is a measure of how much better a particular action is than the state value. Given optimal policy it follows that $\\underset{a}{\\mathrm{max}}~Q^\\pi (s, a) = V^\\pi (s)$ and as such $A^\\pi (s, a) \\leq 0$ if $\\pi$ is optimal. We can use advantages to redefine Q-values:\n",
    "\n",
    "$$\n",
    "Q^\\pi (s, a) = V^\\pi (s) + A^\\pi (s, a)\n",
    "$$\n",
    "\n",
    "As such, we can use separate networks to predict $A^\\pi (s, a)$ and $V^\\pi (s)$ and retrieve Q-values using the equation above. This is exactly the idea behind the Dueling Q-network architecture [(Wang et al. 2015)](https://arxiv.org/pdf/1511.06581.pdf). Decoupling Q-values into values and advantages offers some optimization benefits:\n",
    "\n",
    "1. $V^\\pi (s)$ is independent of actions, as such the value network will have less parameters than a Q-network\n",
    "2. $A^\\pi (s, a)$ although action dependent, advantages oscillate around 0 and change slowly throughout the optimization\n",
    "\n",
    "Intuitively, the dueling Q-network can more efficiently learn which states are valuable, even when the actions available in those states do not affect the environment in a meaningful way. This can be particularly helpful in large or complex environments where it may not be possible to learn good action values for every state-action pair. Dueling DQN architecture uses joint feature layer and two separate heads to represent advantage and value streams (look at Figure 1. in [(Wang et al. 2015)](https://arxiv.org/pdf/1511.06581.pdf)). To further smoothen the optimization, Dueling DQN Q-value is calculated with the following:\n",
    "\n",
    "$$\n",
    "Q_\\theta (s, a) = V_\\theta (s) + \\bigl( A_\\theta (s, a) - \\sum_{a} \\frac{A_\\theta (s, a)}{N_a} \\bigr),\n",
    "$$\n",
    "\n",
    "where $N_a$ is the number of possible actions."
   ]
  },
  {
   "cell_type": "markdown",
   "id": "d6ac9783",
   "metadata": {
    "id": "d6ac9783"
   },
   "source": [
    "### Task 4.1 Implement and train DuelingQNetwork (10% points)\n",
    "Implement the **DuelingQNetwork** class and its *forward* method (no other method of the base class should be changed):"
   ]
  },
  {
   "cell_type": "code",
   "execution_count": 182,
   "id": "89b64c39",
   "metadata": {
    "id": "89b64c39"
   },
   "outputs": [],
   "source": [
    "class DuelingQNetwork(nn.Module):\n",
    "    def __init__(self, args):\n",
    "        super(DuelingQNetwork, self).__init__()\n",
    "        self.layers = nn.Sequential(\n",
    "            nn.Linear(args.state_dim, args.hidden_dim), nn.ReLU(),\n",
    "            nn.Linear(args.hidden_dim, args.hidden_dim), nn.ReLU(),)\n",
    "        self.advantage_head = nn.Linear(args.hidden_dim, args.action_dim)\n",
    "        self.value_head = nn.Linear(args.hidden_dim, 1)\n",
    "        \n",
    "    def forward(self, x):\n",
    "        temp=self.layers(x)\n",
    "        value=self.value_head(temp)\n",
    "        advantage=self.advantage_head(temp)\n",
    "        return value.expand(-1,4)+advantage-torch.mean(advantage,dim=1).unsqueeze(1).expand(-1,4)\n",
    "class DuelingDQN(DQN):\n",
    "    def __init__(self, args):\n",
    "        super(DuelingDQN, self).__init__(args)\n",
    "        self.q_net = DuelingQNetwork(args).to(args.device)\n",
    "        self.q_target = DuelingQNetwork(args).to(args.device)\n",
    "        self.q_target.load_state_dict(self.q_net.state_dict())\n",
    "        self.optimizer = optim.Adam(self.q_net.parameters(), lr=args.learning_rate, eps=1e-5)\n",
    "        \n",
    "    def reset(self):\n",
    "        super().reset()\n",
    "        self.q_net = DuelingQNetwork(self.args).to(self.args.device)\n",
    "        self.q_target = DuelingQNetwork(self.args).to(self.args.device)\n",
    "        self.q_target.load_state_dict(self.q_net.state_dict())\n",
    "        self.optimizer = optim.Adam(self.q_net.parameters(), lr=self.args.learning_rate, eps=1e-5)"
   ]
  },
  {
   "cell_type": "code",
   "execution_count": 183,
   "id": "3a641e57",
   "metadata": {
    "id": "3a641e57"
   },
   "outputs": [
    {
     "name": "stderr",
     "output_type": "stream",
     "text": [
      "/home/wesenheit/.local/lib/python3.10/site-packages/gym/core.py:329: DeprecationWarning: \u001b[33mWARN: Initializing wrapper in old step API which returns one bool instead of two. It is recommended to set `new_step_api=True` to use new step API. This will be the default behaviour in future.\u001b[0m\n",
      "  deprecation(\n",
      "/home/wesenheit/.local/lib/python3.10/site-packages/gym/wrappers/step_api_compatibility.py:39: DeprecationWarning: \u001b[33mWARN: Initializing environment in old step API which returns one bool instead of two. It is recommended to set `new_step_api=True` to use new step API. This will be the default behaviour in future.\u001b[0m\n",
      "  deprecation(\n",
      "/home/wesenheit/.local/lib/python3.10/site-packages/gym/core.py:268: DeprecationWarning: \u001b[33mWARN: Function `env.seed(seed)` is marked as deprecated and will be removed in the future. Please use `env.reset(seed=seed)` instead.\u001b[0m\n",
      "  deprecation(\n"
     ]
    },
    {
     "name": "stdout",
     "output_type": "stream",
     "text": [
      "Step: 39999 Evaluation reward: 7.02 Samples per second: 155556"
     ]
    },
    {
     "data": {
      "text/plain": [
       "31.022866883293926"
      ]
     },
     "execution_count": 183,
     "metadata": {},
     "output_type": "execute_result"
    }
   ],
   "source": [
    "agent = DuelingDQN(args)\n",
    "results_dqn4 = train_agent(args, agent)\n",
    "download_numpy(\"results_dqn4\", results_dqn4)\n",
    "results_dqn4.mean(1)[-10:].mean()"
   ]
  },
  {
   "cell_type": "markdown",
   "id": "730bb10e",
   "metadata": {
    "id": "730bb10e"
   },
   "source": [
    "## 5. Prioritized experience replay\n",
    "\n",
    "In regular experience replay the transitions are uniformly sampled during training and used to update the agent's learning policy. Prioritized replay [(Schaul et al. 2015)](https://arxiv.org/pdf/1511.05952.pdf) is a variant of the experience replay buffer that prioritizes transitions based on the magnitude of the TD error, which is a measure of how much the agent's estimates of the action values deviate from the actual values. Transitions with a higher TD error are more important for learning, because they represent a greater deviation from the agent's current understanding of the environment. By prioritizing transitions with a higher TD error, the agent can more effectively learn from its experiences and improve its performance.\n",
    "\n",
    "To implement a prioritized replay buffer, we need to store not only the transitions themselves, but also the TD error for each transition. We will use a queue-like mechanism to prioritize the transitions based on their TD error, and sample transitions from the buffer using a priority-based sampling distribution. New transitions arrive with maximal priority in order to guarantee that all experience is seen at least once. This allows the agent to more effectively learn from rare or unusual transitions that might be overlooked in a standard experience replay buffer.\n",
    "\n",
    "There are two ways to prioritize transitions in the experience replay buffer based on the TD error: greedy prioritization and stochastic prioritization. When using greedy prioritization, the transitions with the highest TD errors are replayed more frequently, which can lead to overfitting and overlooking certain transitions. To address this issue, we will use a stochastic prioritization method that balances between greedy prioritization and uniform random sampling introducing more diversity in the sampled transitions.\n",
    "\n",
    "$$\n",
    "P(i) = \\frac{p_i^{\\alpha} + \\epsilon}{\\sum_{j=1}^{D} (p_j^{\\alpha} + \\epsilon)}\n",
    "$$\n",
    "\n",
    "Where $p_i > 0$ denotes the priority of transition $i$ with $i, j \\in D$, $D$ denotes the buffer data, $\\epsilon$ is a small positive constant and the exponent $\\alpha$ determines how much prioritization is used, with $\\alpha = 0$ corresponding to the uniform sampling. \n",
    "\n",
    "The estimation of the expected value with stochastic updates relies on those updates corresponding to the same distribution as its expectation. Prioritized replay introduces bias because it changes this distribution in an uncontrolled fashion, and therefore changes the solution that the estimates will converge to (even if the policy and state distribution are fixed). To compensate for non-uniform sampling scheme, prioritized experience replay leverages one more mechanism - importance sampling. To this end, when calculating loss over the batch transition TD error is weighted with an importance weight:\n",
    "\n",
    "\n",
    "$$\n",
    "\\mathcal{L}_{\\theta} = \\frac{1}{B} \\sum_{i=1}^{B} \\bigl( w_i * \\mathrm{TD}~(s_i, a_i, s^{'}_{i}) \\bigr)^{2}\n",
    "$$\n",
    "\n",
    "Where:\n",
    "\n",
    "$$\n",
    "w_i = \\big( \\frac{1}{D} \\cdot \\frac{1}{P(i)} \\big)^\\beta\n",
    "$$\n",
    "\n",
    "Which given $\\beta = 1$ fully compensates for the non uniform sampling. We will anneal values of $\\alpha$ and $\\beta$ towards 1 throughout the training.\n",
    "\n",
    "Managing priorities is often implemented via a Segment Tree. It allows us to be very efficient in sampling transitions, while creating a bit of overhead in writing new values. **You are not required to use segment tree, and no points will be subtracted for not using it. However we encourage to do it for better efficiency and shorter training time.** We provide you with the OpenAI implementation of a SegmentTree below. We recommend that you read a bit about segment trees before moving forward:\n",
    "\n",
    "1. https://www.geeksforgeeks.org/segment-tree-set-1-sum-of-given-range/\n",
    "2. https://github.com/openai/baselines/blob/master/baselines/common/segment_tree.py\n",
    "\n",
    "**Note that the priority queue will be much slower even with good implementation. This slow down is much less visible in image-based RL, where other parts of the compute pipeline are greatly more demanding.**"
   ]
  },
  {
   "cell_type": "code",
   "execution_count": null,
   "id": "cBm8-bPtp6do",
   "metadata": {
    "id": "cBm8-bPtp6do"
   },
   "outputs": [],
   "source": [
    "if IN_COLAB:\n",
    "    !wget https://raw.githubusercontent.com/openai/baselines/master/baselines/common/segment_tree.py\n",
    "from segment_tree import MinSegmentTree, SumSegmentTree,SegmentTree"
   ]
  },
  {
   "cell_type": "markdown",
   "id": "697c07aa",
   "metadata": {
    "id": "697c07aa"
   },
   "source": [
    "### Task 5.1 Implement PrioritizedBuffer \n",
    "Implement the **PrioritizedBuffer** class and the following methods:\n",
    "\n",
    "1. *add* - it should also manage the priorities in the trees\n",
    "2. *sample* - it should samples according to priorities and return importance weights\n",
    "3. *update_priorities* - it should update priorities in trees after performing DQN update\n",
    "4. *get_idx* - it should sample indices according to probability ditribution\n",
    "5. *calculate_weights* - it should calculate importance weights for given index\n",
    "\n",
    "No other method of the base class should be changed. "
   ]
  },
  {
   "cell_type": "code",
   "execution_count": 311,
   "id": "c9ea6c31",
   "metadata": {
    "id": "c9ea6c31"
   },
   "outputs": [],
   "source": [
    "class PrioritizedBuffer(ExperienceBuffer):    \n",
    "    def __init__(self, args, alpha, beta):\n",
    "        super(PrioritizedBuffer, self).__init__(args)\n",
    "        tree_capacity = 1\n",
    "        while tree_capacity < self.args.capacity:\n",
    "            tree_capacity *= 2\n",
    "        self.beta = beta \n",
    "        self.alpha = alpha\n",
    "        self.min_tree = MinSegmentTree(tree_capacity)\n",
    "\n",
    "    def add(self, state, action, reward, next_state, terminal):\n",
    "        value=-self.min_tree.min()\n",
    "        if value==-np.inf:\n",
    "            value=0\n",
    "        self.min_tree[self.idx]=-value\n",
    "        self.states[self.idx, :] = state\n",
    "        self.actions[self.idx, :] = action\n",
    "        self.rewards[self.idx, :] = reward\n",
    "        self.next_states[self.idx, :] = next_state\n",
    "        self.terminals[self.idx, :] = 1 if terminal else 0\n",
    "        self.idx += 1\n",
    "        if self.idx == self.args.capacity:\n",
    "            self.full = True\n",
    "            self.idx = 0\n",
    "    def sample(self):\n",
    "        maxi=self.args.capacity if self.full else self.idx\n",
    "        probs=np.array(list(map(lambda i:np.power(-self.min_tree[i],self.alpha)+1e-1,range(maxi))))\n",
    "        #probs=np.ones(maxi)\n",
    "        normal=np.sum(probs)\n",
    "        idx = np.random.choice(range(maxi),size=self.args.batch_size,p=probs/normal,replace=False)\n",
    "        states = torch.from_numpy(self.states[idx]).to(self.args.device)\n",
    "        actions = torch.from_numpy(self.actions[idx]).to(self.args.device)\n",
    "        rewards = torch.from_numpy(self.rewards[idx]).to(self.args.device)\n",
    "        next_states = torch.from_numpy(self.next_states[idx]).to(self.args.device)\n",
    "        terminals = torch.from_numpy(self.terminals[idx]).long().to(self.args.device)\n",
    "        probs=probs/normal\n",
    "        weights=np.power(maxi*probs,-self.beta)\n",
    "        #weights=weights/np.max(weights)\n",
    "        weights=torch.from_numpy(weights[idx]).to(self.args.device)\n",
    "        return states, actions, rewards, next_states, terminals, idx, weights\n",
    "    \n",
    "    def update_priorities(self, idx, priorities):\n",
    "        for id,p in zip(idx,priorities):\n",
    "            self.min_tree[id]=-p\n",
    "                \n",
    "    def get_idx(self):\n",
    "        probs=np.array(list(map(lambda i:self.sum_tree[i],range(self.idx))))\n",
    "        idxs = np.random.choice(range(self.args.capacity) if self.full else range(self.idx),size=self.args.batch_size,p=probs/self.sum_tree.sum())\n",
    "        return idxs\n",
    "    \n",
    "    def calculate_weight(self, idx):\n",
    "        maxi=self.args.capacity if self.full else self.idx\n",
    "        prob=self.sum_tree(idx)\n",
    "        weight=(self.sum_tree.sum(0,max)/(prob*maxi))**self.beta\n",
    "        return weight"
   ]
  },
  {
   "cell_type": "markdown",
   "id": "73c22925",
   "metadata": {
    "id": "73c22925"
   },
   "source": [
    "### Task 5.2 Train PrioritizedDQN \n",
    "Implement the **PrioritizedDQN** class and its *update* method (no other method of the base class should be changed):"
   ]
  },
  {
   "cell_type": "code",
   "execution_count": 312,
   "id": "86de8b40",
   "metadata": {
    "id": "86de8b40"
   },
   "outputs": [],
   "source": [
    "class PrioritizedDQN(DQN):\n",
    "    def __init__(self, args, alpha=0.2, beta=0.2):\n",
    "        super(PrioritizedDQN, self).__init__(args)\n",
    "        self.buffer = PrioritizedBuffer(args, alpha, beta)\n",
    "        self.alpha = alpha\n",
    "        self.beta = beta\n",
    "        \n",
    "    def update(self):\n",
    "        states, actions, rewards, next_states, terminals, idx, weights = self.buffer.sample()\n",
    "        with torch.no_grad():\n",
    "            q_ns = torch.max(self.q_target(next_states), dim=1)[0].unsqueeze(1)\n",
    "        q_targets = rewards + (1-terminals) * self.args.discount * q_ns\n",
    "        self.optimizer.zero_grad()\n",
    "        q_values = self.q_net(states).gather(1, actions)\n",
    "        td_errors = nn.functional.smooth_l1_loss(q_values, q_targets, reduction='none')\n",
    "        loss = torch.mean(td_errors * weights)\n",
    "        loss.backward()\n",
    "        self.optimizer.step()\n",
    "        priorities = td_errors.detach().squeeze().cpu().tolist()\n",
    "        self.buffer.update_priorities(idx, priorities)\n",
    "        \n",
    "    def anneal(self, step):\n",
    "        super().anneal(step)\n",
    "        if step < self.args.anneal_steps:\n",
    "            self.buffer.alpha = ((1 - self.alpha)/self.args.anneal_steps)*step + self.alpha\n",
    "            self.buffer.beta = ((1 - self.beta)/self.args.anneal_steps)*step + self.beta\n",
    "        else:\n",
    "            pass\n",
    "\n",
    "    def reset(self):\n",
    "        super().reset()\n",
    "        self.buffer = PrioritizedBuffer(self.args, self.alpha, self.beta)  "
   ]
  },
  {
   "cell_type": "code",
   "execution_count": 310,
   "id": "96c9a63d",
   "metadata": {
    "id": "96c9a63d"
   },
   "outputs": [
    {
     "name": "stdout",
     "output_type": "stream",
     "text": [
      "Step: 28999 Evaluation reward: -558.23 Samples per second: 69"
     ]
    },
    {
     "ename": "KeyboardInterrupt",
     "evalue": "",
     "output_type": "error",
     "traceback": [
      "\u001b[0;31m---------------------------------------------------------------------------\u001b[0m",
      "\u001b[0;31mKeyboardInterrupt\u001b[0m                         Traceback (most recent call last)",
      "\u001b[0;32m/tmp/ipykernel_15639/2767656777.py\u001b[0m in \u001b[0;36m<cell line: 2>\u001b[0;34m()\u001b[0m\n\u001b[1;32m      1\u001b[0m \u001b[0magent\u001b[0m \u001b[0;34m=\u001b[0m \u001b[0mPrioritizedDQN\u001b[0m\u001b[0;34m(\u001b[0m\u001b[0margs\u001b[0m\u001b[0;34m)\u001b[0m\u001b[0;34m\u001b[0m\u001b[0;34m\u001b[0m\u001b[0m\n\u001b[0;32m----> 2\u001b[0;31m \u001b[0mresults_dqn5\u001b[0m \u001b[0;34m=\u001b[0m \u001b[0mtrain_agent\u001b[0m\u001b[0;34m(\u001b[0m\u001b[0margs\u001b[0m\u001b[0;34m,\u001b[0m \u001b[0magent\u001b[0m\u001b[0;34m)\u001b[0m\u001b[0;34m\u001b[0m\u001b[0;34m\u001b[0m\u001b[0m\n\u001b[0m\u001b[1;32m      3\u001b[0m \u001b[0mdownload_numpy\u001b[0m\u001b[0;34m(\u001b[0m\u001b[0;34m\"results_dqn5.npy\"\u001b[0m\u001b[0;34m,\u001b[0m \u001b[0mresults_dqn5\u001b[0m\u001b[0;34m)\u001b[0m\u001b[0;34m\u001b[0m\u001b[0;34m\u001b[0m\u001b[0m\n\u001b[1;32m      4\u001b[0m \u001b[0mresults_dqn5\u001b[0m\u001b[0;34m.\u001b[0m\u001b[0mmean\u001b[0m\u001b[0;34m(\u001b[0m\u001b[0;36m1\u001b[0m\u001b[0;34m)\u001b[0m\u001b[0;34m[\u001b[0m\u001b[0;34m-\u001b[0m\u001b[0;36m10\u001b[0m\u001b[0;34m:\u001b[0m\u001b[0;34m]\u001b[0m\u001b[0;34m.\u001b[0m\u001b[0mmean\u001b[0m\u001b[0;34m(\u001b[0m\u001b[0;34m)\u001b[0m\u001b[0;34m\u001b[0m\u001b[0;34m\u001b[0m\u001b[0m\n",
      "\u001b[0;32m/tmp/ipykernel_15639/2903784601.py\u001b[0m in \u001b[0;36mtrain_agent\u001b[0;34m(args, agent)\u001b[0m\n\u001b[1;32m     15\u001b[0m             \u001b[0mstate\u001b[0m \u001b[0;34m=\u001b[0m \u001b[0mnext_state\u001b[0m\u001b[0;34m\u001b[0m\u001b[0;34m\u001b[0m\u001b[0m\n\u001b[1;32m     16\u001b[0m             \u001b[0;32mif\u001b[0m \u001b[0mstep\u001b[0m \u001b[0;34m>=\u001b[0m \u001b[0margs\u001b[0m\u001b[0;34m.\u001b[0m\u001b[0minit_steps\u001b[0m\u001b[0;34m:\u001b[0m\u001b[0;34m\u001b[0m\u001b[0;34m\u001b[0m\u001b[0m\n\u001b[0;32m---> 17\u001b[0;31m                 \u001b[0magent\u001b[0m\u001b[0;34m.\u001b[0m\u001b[0mupdate\u001b[0m\u001b[0;34m(\u001b[0m\u001b[0;34m)\u001b[0m\u001b[0;34m\u001b[0m\u001b[0;34m\u001b[0m\u001b[0m\n\u001b[0m\u001b[1;32m     18\u001b[0m                 \u001b[0;32mif\u001b[0m \u001b[0;34m(\u001b[0m\u001b[0mstep\u001b[0m \u001b[0;34m+\u001b[0m \u001b[0;36m1\u001b[0m\u001b[0;34m)\u001b[0m \u001b[0;34m%\u001b[0m \u001b[0margs\u001b[0m\u001b[0;34m.\u001b[0m\u001b[0mtarget_update_freq\u001b[0m \u001b[0;34m==\u001b[0m \u001b[0;36m0\u001b[0m\u001b[0;34m:\u001b[0m\u001b[0;34m\u001b[0m\u001b[0;34m\u001b[0m\u001b[0m\n\u001b[1;32m     19\u001b[0m                     \u001b[0magent\u001b[0m\u001b[0;34m.\u001b[0m\u001b[0mupdate_target\u001b[0m\u001b[0;34m(\u001b[0m\u001b[0;34m)\u001b[0m\u001b[0;34m\u001b[0m\u001b[0;34m\u001b[0m\u001b[0m\n",
      "\u001b[0;32m/tmp/ipykernel_15639/1246305787.py\u001b[0m in \u001b[0;36mupdate\u001b[0;34m(self)\u001b[0m\n\u001b[1;32m      7\u001b[0m \u001b[0;34m\u001b[0m\u001b[0m\n\u001b[1;32m      8\u001b[0m     \u001b[0;32mdef\u001b[0m \u001b[0mupdate\u001b[0m\u001b[0;34m(\u001b[0m\u001b[0mself\u001b[0m\u001b[0;34m)\u001b[0m\u001b[0;34m:\u001b[0m\u001b[0;34m\u001b[0m\u001b[0;34m\u001b[0m\u001b[0m\n\u001b[0;32m----> 9\u001b[0;31m         \u001b[0mstates\u001b[0m\u001b[0;34m,\u001b[0m \u001b[0mactions\u001b[0m\u001b[0;34m,\u001b[0m \u001b[0mrewards\u001b[0m\u001b[0;34m,\u001b[0m \u001b[0mnext_states\u001b[0m\u001b[0;34m,\u001b[0m \u001b[0mterminals\u001b[0m\u001b[0;34m,\u001b[0m \u001b[0midx\u001b[0m\u001b[0;34m,\u001b[0m \u001b[0mweights\u001b[0m \u001b[0;34m=\u001b[0m \u001b[0mself\u001b[0m\u001b[0;34m.\u001b[0m\u001b[0mbuffer\u001b[0m\u001b[0;34m.\u001b[0m\u001b[0msample\u001b[0m\u001b[0;34m(\u001b[0m\u001b[0;34m)\u001b[0m\u001b[0;34m\u001b[0m\u001b[0;34m\u001b[0m\u001b[0m\n\u001b[0m\u001b[1;32m     10\u001b[0m         \u001b[0;32mwith\u001b[0m \u001b[0mtorch\u001b[0m\u001b[0;34m.\u001b[0m\u001b[0mno_grad\u001b[0m\u001b[0;34m(\u001b[0m\u001b[0;34m)\u001b[0m\u001b[0;34m:\u001b[0m\u001b[0;34m\u001b[0m\u001b[0;34m\u001b[0m\u001b[0m\n\u001b[1;32m     11\u001b[0m             \u001b[0mq_ns\u001b[0m \u001b[0;34m=\u001b[0m \u001b[0mtorch\u001b[0m\u001b[0;34m.\u001b[0m\u001b[0mmax\u001b[0m\u001b[0;34m(\u001b[0m\u001b[0mself\u001b[0m\u001b[0;34m.\u001b[0m\u001b[0mq_target\u001b[0m\u001b[0;34m(\u001b[0m\u001b[0mnext_states\u001b[0m\u001b[0;34m)\u001b[0m\u001b[0;34m,\u001b[0m \u001b[0mdim\u001b[0m\u001b[0;34m=\u001b[0m\u001b[0;36m1\u001b[0m\u001b[0;34m)\u001b[0m\u001b[0;34m[\u001b[0m\u001b[0;36m0\u001b[0m\u001b[0;34m]\u001b[0m\u001b[0;34m.\u001b[0m\u001b[0munsqueeze\u001b[0m\u001b[0;34m(\u001b[0m\u001b[0;36m1\u001b[0m\u001b[0;34m)\u001b[0m\u001b[0;34m\u001b[0m\u001b[0;34m\u001b[0m\u001b[0m\n",
      "\u001b[0;32m/tmp/ipykernel_15639/3591551632.py\u001b[0m in \u001b[0;36msample\u001b[0;34m(self)\u001b[0m\n\u001b[1;32m     25\u001b[0m     \u001b[0;32mdef\u001b[0m \u001b[0msample\u001b[0m\u001b[0;34m(\u001b[0m\u001b[0mself\u001b[0m\u001b[0;34m)\u001b[0m\u001b[0;34m:\u001b[0m\u001b[0;34m\u001b[0m\u001b[0;34m\u001b[0m\u001b[0m\n\u001b[1;32m     26\u001b[0m         \u001b[0mmaxi\u001b[0m\u001b[0;34m=\u001b[0m\u001b[0mself\u001b[0m\u001b[0;34m.\u001b[0m\u001b[0margs\u001b[0m\u001b[0;34m.\u001b[0m\u001b[0mcapacity\u001b[0m \u001b[0;32mif\u001b[0m \u001b[0mself\u001b[0m\u001b[0;34m.\u001b[0m\u001b[0mfull\u001b[0m \u001b[0;32melse\u001b[0m \u001b[0mself\u001b[0m\u001b[0;34m.\u001b[0m\u001b[0midx\u001b[0m\u001b[0;34m\u001b[0m\u001b[0;34m\u001b[0m\u001b[0m\n\u001b[0;32m---> 27\u001b[0;31m         \u001b[0mprobs\u001b[0m\u001b[0;34m=\u001b[0m\u001b[0mnp\u001b[0m\u001b[0;34m.\u001b[0m\u001b[0marray\u001b[0m\u001b[0;34m(\u001b[0m\u001b[0mlist\u001b[0m\u001b[0;34m(\u001b[0m\u001b[0mmap\u001b[0m\u001b[0;34m(\u001b[0m\u001b[0;32mlambda\u001b[0m \u001b[0mi\u001b[0m\u001b[0;34m:\u001b[0m\u001b[0mnp\u001b[0m\u001b[0;34m.\u001b[0m\u001b[0mpower\u001b[0m\u001b[0;34m(\u001b[0m\u001b[0;34m-\u001b[0m\u001b[0mself\u001b[0m\u001b[0;34m.\u001b[0m\u001b[0mmin_tree\u001b[0m\u001b[0;34m[\u001b[0m\u001b[0mi\u001b[0m\u001b[0;34m]\u001b[0m\u001b[0;34m,\u001b[0m\u001b[0mself\u001b[0m\u001b[0;34m.\u001b[0m\u001b[0malpha\u001b[0m\u001b[0;34m)\u001b[0m\u001b[0;34m+\u001b[0m\u001b[0;36m1e-2\u001b[0m\u001b[0;34m,\u001b[0m\u001b[0mrange\u001b[0m\u001b[0;34m(\u001b[0m\u001b[0mmaxi\u001b[0m\u001b[0;34m)\u001b[0m\u001b[0;34m)\u001b[0m\u001b[0;34m)\u001b[0m\u001b[0;34m)\u001b[0m\u001b[0;34m\u001b[0m\u001b[0;34m\u001b[0m\u001b[0m\n\u001b[0m\u001b[1;32m     28\u001b[0m         \u001b[0;31m#probs=np.ones(maxi)\u001b[0m\u001b[0;34m\u001b[0m\u001b[0;34m\u001b[0m\u001b[0m\n\u001b[1;32m     29\u001b[0m         \u001b[0mnormal\u001b[0m\u001b[0;34m=\u001b[0m\u001b[0mnp\u001b[0m\u001b[0;34m.\u001b[0m\u001b[0msum\u001b[0m\u001b[0;34m(\u001b[0m\u001b[0mprobs\u001b[0m\u001b[0;34m)\u001b[0m\u001b[0;34m\u001b[0m\u001b[0;34m\u001b[0m\u001b[0m\n",
      "\u001b[0;32m/tmp/ipykernel_15639/3591551632.py\u001b[0m in \u001b[0;36m<lambda>\u001b[0;34m(i)\u001b[0m\n\u001b[1;32m     25\u001b[0m     \u001b[0;32mdef\u001b[0m \u001b[0msample\u001b[0m\u001b[0;34m(\u001b[0m\u001b[0mself\u001b[0m\u001b[0;34m)\u001b[0m\u001b[0;34m:\u001b[0m\u001b[0;34m\u001b[0m\u001b[0;34m\u001b[0m\u001b[0m\n\u001b[1;32m     26\u001b[0m         \u001b[0mmaxi\u001b[0m\u001b[0;34m=\u001b[0m\u001b[0mself\u001b[0m\u001b[0;34m.\u001b[0m\u001b[0margs\u001b[0m\u001b[0;34m.\u001b[0m\u001b[0mcapacity\u001b[0m \u001b[0;32mif\u001b[0m \u001b[0mself\u001b[0m\u001b[0;34m.\u001b[0m\u001b[0mfull\u001b[0m \u001b[0;32melse\u001b[0m \u001b[0mself\u001b[0m\u001b[0;34m.\u001b[0m\u001b[0midx\u001b[0m\u001b[0;34m\u001b[0m\u001b[0;34m\u001b[0m\u001b[0m\n\u001b[0;32m---> 27\u001b[0;31m         \u001b[0mprobs\u001b[0m\u001b[0;34m=\u001b[0m\u001b[0mnp\u001b[0m\u001b[0;34m.\u001b[0m\u001b[0marray\u001b[0m\u001b[0;34m(\u001b[0m\u001b[0mlist\u001b[0m\u001b[0;34m(\u001b[0m\u001b[0mmap\u001b[0m\u001b[0;34m(\u001b[0m\u001b[0;32mlambda\u001b[0m \u001b[0mi\u001b[0m\u001b[0;34m:\u001b[0m\u001b[0mnp\u001b[0m\u001b[0;34m.\u001b[0m\u001b[0mpower\u001b[0m\u001b[0;34m(\u001b[0m\u001b[0;34m-\u001b[0m\u001b[0mself\u001b[0m\u001b[0;34m.\u001b[0m\u001b[0mmin_tree\u001b[0m\u001b[0;34m[\u001b[0m\u001b[0mi\u001b[0m\u001b[0;34m]\u001b[0m\u001b[0;34m,\u001b[0m\u001b[0mself\u001b[0m\u001b[0;34m.\u001b[0m\u001b[0malpha\u001b[0m\u001b[0;34m)\u001b[0m\u001b[0;34m+\u001b[0m\u001b[0;36m1e-2\u001b[0m\u001b[0;34m,\u001b[0m\u001b[0mrange\u001b[0m\u001b[0;34m(\u001b[0m\u001b[0mmaxi\u001b[0m\u001b[0;34m)\u001b[0m\u001b[0;34m)\u001b[0m\u001b[0;34m)\u001b[0m\u001b[0;34m)\u001b[0m\u001b[0;34m\u001b[0m\u001b[0;34m\u001b[0m\u001b[0m\n\u001b[0m\u001b[1;32m     28\u001b[0m         \u001b[0;31m#probs=np.ones(maxi)\u001b[0m\u001b[0;34m\u001b[0m\u001b[0;34m\u001b[0m\u001b[0m\n\u001b[1;32m     29\u001b[0m         \u001b[0mnormal\u001b[0m\u001b[0;34m=\u001b[0m\u001b[0mnp\u001b[0m\u001b[0;34m.\u001b[0m\u001b[0msum\u001b[0m\u001b[0;34m(\u001b[0m\u001b[0mprobs\u001b[0m\u001b[0;34m)\u001b[0m\u001b[0;34m\u001b[0m\u001b[0;34m\u001b[0m\u001b[0m\n",
      "\u001b[0;31mKeyboardInterrupt\u001b[0m: "
     ]
    }
   ],
   "source": [
    "agent = PrioritizedDQN(args)\n",
    "results_dqn5 = train_agent(args, agent)\n",
    "download_numpy(\"results_dqn5.npy\", results_dqn5)\n",
    "results_dqn5.mean(1)[-10:].mean()"
   ]
  },
  {
   "cell_type": "markdown",
   "id": "69b90bf3",
   "metadata": {
    "id": "69b90bf3"
   },
   "source": [
    "## 6. (Almost) Rainbow\n",
    "The final thing we are left with is to combine all the improvements into a single agent [(Hessel 2017)](https://arxiv.org/pdf/1710.02298.pdf). To this end, you have to implement three classes:\n",
    "\n",
    "1. **RainbowBuffer** - experience buffer that combines nstep returns and priority-based sampling\n",
    "2. **RainbowQNetwork** - Q-network that uses noisy linear layers in a dueling setup\n",
    "3. **RainbowDQN** - DQN that combines all of the covered techniques\n",
    "\n",
    "![fig1](https://production-media.paperswithcode.com/methods/Screen_Shot_2020-07-07_at_9.14.13_PM_4fMCutg.png)"
   ]
  },
  {
   "cell_type": "markdown",
   "id": "c964c779",
   "metadata": {
    "id": "c964c779"
   },
   "source": [
    "### Task 6.1 Implement RainbowBuffer"
   ]
  },
  {
   "cell_type": "code",
   "execution_count": 292,
   "id": "372a2972",
   "metadata": {
    "id": "372a2972"
   },
   "outputs": [],
   "source": [
    "from collections import deque \n",
    "\n",
    "class RainbowBuffer(ExperienceBuffer):\n",
    "    def __init__(self, args, nstep, alpha, beta):\n",
    "        super(RainbowBuffer, self).__init__(args)\n",
    "        tree_capacity = 1\n",
    "        while tree_capacity < self.args.capacity:\n",
    "            tree_capacity *= 2\n",
    "        self.min_tree = MinSegmentTree(tree_capacity)\n",
    "        self.priority_cap = 1\n",
    "        self.alpha = alpha\n",
    "        self.beta = beta   \n",
    "        self.memories = deque(maxlen=nstep)\n",
    "        self.nstep = nstep \n",
    "        \n",
    "    def add(self, state, action, reward, next_state, terminal):\n",
    "        terminal_ = 1 if terminal else 0 \n",
    "        memory = (state, action, reward, next_state, terminal_)\n",
    "        self.memories.append(memory)\n",
    "        if len(self.memories) >= self.nstep:\n",
    "            value=-self.min_tree.min()\n",
    "            if value==-np.inf:\n",
    "                value=0\n",
    "            self.min_tree[self.idx]=-value\n",
    "            state, action, reward, next_state, terminal = self.get_nstep()\n",
    "            self.states[self.idx, :] = state\n",
    "            self.actions[self.idx, :] = action\n",
    "            self.rewards[self.idx, :] = reward\n",
    "            self.next_states[self.idx, :] = next_state\n",
    "            self.terminals[self.idx, :] = terminal\n",
    "            self.idx += 1\n",
    "            if self.idx == self.args.capacity:\n",
    "                self.full = True\n",
    "                self.idx = 0\n",
    "            \n",
    "    def get_nstep(self):\n",
    "        state=self.memories[0][0]\n",
    "        action=self.memories[0][1]\n",
    "        reward=torch.tensor(list(map(lambda x:x[2],self.memories)))\n",
    "        reward=torch.sum(reward*self.args.discount**torch.arange(0,len(reward)))\n",
    "        next_state=self.memories[-1][3]\n",
    "        terminal=self.memories[-1][4]\n",
    "        return state, action, reward, next_state, terminal\n",
    "        \n",
    "    def sample(self):\n",
    "        maxi=self.args.capacity if self.full else self.idx\n",
    "        probs=np.array(list(map(lambda i:np.power(-self.min_tree[i],self.alpha)+1e-1,range(maxi))))\n",
    "        normal=np.sum(probs)\n",
    "        idx = np.random.choice(range(maxi),size=self.args.batch_size,p=probs/normal,replace=False)\n",
    "        states = torch.from_numpy(self.states[idx]).to(self.args.device)\n",
    "        actions = torch.from_numpy(self.actions[idx]).to(self.args.device)\n",
    "        rewards = torch.from_numpy(self.rewards[idx]).to(self.args.device)\n",
    "        next_states = torch.from_numpy(self.next_states[idx]).to(self.args.device)\n",
    "        terminals = torch.from_numpy(self.terminals[idx]).long().to(self.args.device)\n",
    "        probs=probs/normal\n",
    "        weights=np.power(maxi*probs,-self.beta)\n",
    "        weights=torch.from_numpy(weights[idx]).to(self.args.device)\n",
    "        return states, actions, rewards, next_states, terminals, idx, weights\n",
    "    \n",
    "    def update_priorities(self, idx, priorities):\n",
    "        for id,p in zip(idx,priorities):\n",
    "            self.min_tree[id]=-p"
   ]
  },
  {
   "cell_type": "markdown",
   "id": "759b4524",
   "metadata": {
    "id": "759b4524"
   },
   "source": [
    "### Task 6.2 Implement RainbowQNetwork class "
   ]
  },
  {
   "cell_type": "code",
   "execution_count": 293,
   "id": "9889f6ee",
   "metadata": {
    "id": "9889f6ee"
   },
   "outputs": [],
   "source": [
    "class RainbowQNetwork(nn.Module):\n",
    "    def __init__(self, args, std):\n",
    "        super(RainbowQNetwork, self).__init__()\n",
    "        self.layers = nn.Sequential(\n",
    "            nn.Linear(args.state_dim, args.hidden_dim), nn.ReLU(),\n",
    "            NoisyLinear(args.hidden_dim, args.hidden_dim, std), nn.ReLU())\n",
    "        self.value_head=NoisyLinear(args.hidden_dim, 1, std)\n",
    "        self.advantage_head=NoisyLinear(args.hidden_dim, args.action_dim, std)\n",
    "    def forward(self, x):\n",
    "        temp=self.layers(x)\n",
    "        value=self.value_head(temp)\n",
    "        advantage=self.advantage_head(temp)\n",
    "        return value.expand(-1,4)+advantage-torch.mean(advantage,dim=1).unsqueeze(1).expand(-1,4)"
   ]
  },
  {
   "cell_type": "markdown",
   "id": "12406eb1",
   "metadata": {
    "id": "12406eb1"
   },
   "source": [
    "### Task 6.2 Implement and train RainbowDQN agent "
   ]
  },
  {
   "cell_type": "code",
   "execution_count": 294,
   "id": "f3ee6f39",
   "metadata": {
    "id": "f3ee6f39"
   },
   "outputs": [],
   "source": [
    "class RainbowDQN(DQN):\n",
    "    def __init__(self, args, nstep=3, std=0.2, alpha=0.2, beta=0.2):\n",
    "        super(RainbowDQN, self).__init__(args)\n",
    "        self.buffer = RainbowBuffer(args, nstep, alpha, beta)\n",
    "        self.alpha = alpha\n",
    "        self.beta = beta\n",
    "        self.nstep = nstep \n",
    "        self.q_net = RainbowQNetwork(args, std).to(args.device)\n",
    "        self.q_target = RainbowQNetwork(args, std).to(args.device)\n",
    "        self.q_target.load_state_dict(self.q_net.state_dict())\n",
    "        self.optimizer = optim.Adam(self.q_net.parameters(), lr=args.learning_rate, eps=1e-5)\n",
    "        self.std = std\n",
    "        \n",
    "    def update(self):\n",
    "        states, actions, rewards, next_states, terminals, idx, weights = self.buffer.sample()\n",
    "        with torch.no_grad():\n",
    "            q_ns_arg = torch.argmax(self.q_net(next_states), dim=1).unsqueeze(1)\n",
    "            q_targets_next=self.q_target(next_states)\n",
    "            q_targets = rewards + (1-terminals) * self.args.discount**self.nstep * q_targets_next.gather(1,q_ns_arg)\n",
    "        self.optimizer.zero_grad()\n",
    "        q_values = self.q_net(states)\n",
    "        td_errors = nn.functional.smooth_l1_loss(q_values.gather(1,actions), q_targets,reduction=\"none\")\n",
    "        loss = torch.mean(td_errors * weights)\n",
    "        loss.backward()\n",
    "        self.optimizer.step()\n",
    "        priorities = td_errors.detach().squeeze().cpu().tolist()\n",
    "        self.buffer.update_priorities(idx, priorities)\n",
    "        \n",
    "    def anneal(self, step):\n",
    "        if step < self.args.anneal_steps and step > self.args.init_steps:\n",
    "            self.buffer.alpha = ((1 - self.alpha)/self.args.anneal_steps)*step + self.alpha\n",
    "            self.buffer.beta = ((1 - self.beta)/self.args.anneal_steps)*step + self.beta\n",
    "        else:\n",
    "            pass\n",
    "\n",
    "    def get_action(self, state, exploration=True):\n",
    "        return torch.argmax(self.q_net(state)).item()\n",
    "    \n",
    "    def reset(self):\n",
    "        self.buffer = RainbowBuffer(self.args, self.nstep, self.alpha, self.beta) \n",
    "        self.q_net = RainbowQNetwork(self.args, self.std).to(self.args.device)\n",
    "        self.q_target = RainbowQNetwork(self.args, self.std).to(self.args.device)\n",
    "        self.q_target.load_state_dict(self.q_net.state_dict())\n",
    "        self.optimizer = optim.Adam(self.q_net.parameters(), lr=self.args.learning_rate, eps=1e-5)"
   ]
  },
  {
   "cell_type": "code",
   "execution_count": 295,
   "id": "feb1c384",
   "metadata": {
    "id": "feb1c384"
   },
   "outputs": [
    {
     "name": "stdout",
     "output_type": "stream",
     "text": [
      "Step: 24999 Evaluation reward: -70.29 Samples per second: 502"
     ]
    },
    {
     "ename": "KeyboardInterrupt",
     "evalue": "",
     "output_type": "error",
     "traceback": [
      "\u001b[0;31m---------------------------------------------------------------------------\u001b[0m",
      "\u001b[0;31mKeyboardInterrupt\u001b[0m                         Traceback (most recent call last)",
      "\u001b[0;32m/tmp/ipykernel_15639/4029233255.py\u001b[0m in \u001b[0;36m<cell line: 2>\u001b[0;34m()\u001b[0m\n\u001b[1;32m      1\u001b[0m \u001b[0magent\u001b[0m \u001b[0;34m=\u001b[0m \u001b[0mRainbowDQN\u001b[0m\u001b[0;34m(\u001b[0m\u001b[0margs\u001b[0m\u001b[0;34m)\u001b[0m\u001b[0;34m\u001b[0m\u001b[0;34m\u001b[0m\u001b[0m\n\u001b[0;32m----> 2\u001b[0;31m \u001b[0mresults_dqn6\u001b[0m \u001b[0;34m=\u001b[0m \u001b[0mtrain_agent\u001b[0m\u001b[0;34m(\u001b[0m\u001b[0margs\u001b[0m\u001b[0;34m,\u001b[0m \u001b[0magent\u001b[0m\u001b[0;34m)\u001b[0m\u001b[0;34m\u001b[0m\u001b[0;34m\u001b[0m\u001b[0m\n\u001b[0m\u001b[1;32m      3\u001b[0m \u001b[0mdownload_numpy\u001b[0m\u001b[0;34m(\u001b[0m\u001b[0;34m\"results_dqn6.npy\"\u001b[0m\u001b[0;34m,\u001b[0m \u001b[0mresults_dqn6\u001b[0m\u001b[0;34m)\u001b[0m\u001b[0;34m\u001b[0m\u001b[0;34m\u001b[0m\u001b[0m\n\u001b[1;32m      4\u001b[0m \u001b[0mresults_dqn6\u001b[0m\u001b[0;34m.\u001b[0m\u001b[0mmean\u001b[0m\u001b[0;34m(\u001b[0m\u001b[0;36m1\u001b[0m\u001b[0;34m)\u001b[0m\u001b[0;34m[\u001b[0m\u001b[0;34m-\u001b[0m\u001b[0;36m10\u001b[0m\u001b[0;34m:\u001b[0m\u001b[0;34m]\u001b[0m\u001b[0;34m.\u001b[0m\u001b[0mmean\u001b[0m\u001b[0;34m(\u001b[0m\u001b[0;34m)\u001b[0m\u001b[0;34m\u001b[0m\u001b[0;34m\u001b[0m\u001b[0m\n",
      "\u001b[0;32m/tmp/ipykernel_15639/2903784601.py\u001b[0m in \u001b[0;36mtrain_agent\u001b[0;34m(args, agent)\u001b[0m\n\u001b[1;32m      9\u001b[0m             \u001b[0;32mif\u001b[0m \u001b[0mstep\u001b[0m \u001b[0;34m==\u001b[0m \u001b[0margs\u001b[0m\u001b[0;34m.\u001b[0m\u001b[0minit_steps\u001b[0m\u001b[0;34m:\u001b[0m\u001b[0;34m\u001b[0m\u001b[0;34m\u001b[0m\u001b[0m\n\u001b[1;32m     10\u001b[0m                 \u001b[0mstart_time\u001b[0m \u001b[0;34m=\u001b[0m \u001b[0mtime\u001b[0m\u001b[0;34m.\u001b[0m\u001b[0mtime\u001b[0m\u001b[0;34m(\u001b[0m\u001b[0;34m)\u001b[0m\u001b[0;34m\u001b[0m\u001b[0;34m\u001b[0m\u001b[0m\n\u001b[0;32m---> 11\u001b[0;31m             \u001b[0maction\u001b[0m \u001b[0;34m=\u001b[0m \u001b[0magent\u001b[0m\u001b[0;34m.\u001b[0m\u001b[0mget_action\u001b[0m\u001b[0;34m(\u001b[0m\u001b[0mtorch\u001b[0m\u001b[0;34m.\u001b[0m\u001b[0mtensor\u001b[0m\u001b[0;34m(\u001b[0m\u001b[0mstate\u001b[0m\u001b[0;34m)\u001b[0m\u001b[0;34m.\u001b[0m\u001b[0munsqueeze\u001b[0m\u001b[0;34m(\u001b[0m\u001b[0;36m0\u001b[0m\u001b[0;34m)\u001b[0m\u001b[0;34m.\u001b[0m\u001b[0mto\u001b[0m\u001b[0;34m(\u001b[0m\u001b[0margs\u001b[0m\u001b[0;34m.\u001b[0m\u001b[0mdevice\u001b[0m\u001b[0;34m)\u001b[0m\u001b[0;34m)\u001b[0m\u001b[0;34m\u001b[0m\u001b[0;34m\u001b[0m\u001b[0m\n\u001b[0m\u001b[1;32m     12\u001b[0m             \u001b[0mnext_state\u001b[0m\u001b[0;34m,\u001b[0m \u001b[0mreward\u001b[0m\u001b[0;34m,\u001b[0m \u001b[0mterminal\u001b[0m\u001b[0;34m,\u001b[0m \u001b[0m_\u001b[0m \u001b[0;34m=\u001b[0m \u001b[0menv\u001b[0m\u001b[0;34m.\u001b[0m\u001b[0mstep\u001b[0m\u001b[0;34m(\u001b[0m\u001b[0maction\u001b[0m\u001b[0;34m)\u001b[0m\u001b[0;34m\u001b[0m\u001b[0;34m\u001b[0m\u001b[0m\n\u001b[1;32m     13\u001b[0m             \u001b[0magent\u001b[0m\u001b[0;34m.\u001b[0m\u001b[0mbuffer\u001b[0m\u001b[0;34m.\u001b[0m\u001b[0madd\u001b[0m\u001b[0;34m(\u001b[0m\u001b[0mstate\u001b[0m\u001b[0;34m,\u001b[0m \u001b[0maction\u001b[0m\u001b[0;34m,\u001b[0m \u001b[0mreward\u001b[0m\u001b[0;34m,\u001b[0m \u001b[0mnext_state\u001b[0m\u001b[0;34m,\u001b[0m \u001b[0mterminal\u001b[0m\u001b[0;34m)\u001b[0m\u001b[0;34m\u001b[0m\u001b[0;34m\u001b[0m\u001b[0m\n",
      "\u001b[0;32m/tmp/ipykernel_15639/190768846.py\u001b[0m in \u001b[0;36mget_action\u001b[0;34m(self, state, exploration)\u001b[0m\n\u001b[1;32m     35\u001b[0m \u001b[0;34m\u001b[0m\u001b[0m\n\u001b[1;32m     36\u001b[0m     \u001b[0;32mdef\u001b[0m \u001b[0mget_action\u001b[0m\u001b[0;34m(\u001b[0m\u001b[0mself\u001b[0m\u001b[0;34m,\u001b[0m \u001b[0mstate\u001b[0m\u001b[0;34m,\u001b[0m \u001b[0mexploration\u001b[0m\u001b[0;34m=\u001b[0m\u001b[0;32mTrue\u001b[0m\u001b[0;34m)\u001b[0m\u001b[0;34m:\u001b[0m\u001b[0;34m\u001b[0m\u001b[0;34m\u001b[0m\u001b[0m\n\u001b[0;32m---> 37\u001b[0;31m         \u001b[0;32mreturn\u001b[0m \u001b[0mtorch\u001b[0m\u001b[0;34m.\u001b[0m\u001b[0margmax\u001b[0m\u001b[0;34m(\u001b[0m\u001b[0mself\u001b[0m\u001b[0;34m.\u001b[0m\u001b[0mq_net\u001b[0m\u001b[0;34m(\u001b[0m\u001b[0mstate\u001b[0m\u001b[0;34m)\u001b[0m\u001b[0;34m)\u001b[0m\u001b[0;34m.\u001b[0m\u001b[0mitem\u001b[0m\u001b[0;34m(\u001b[0m\u001b[0;34m)\u001b[0m\u001b[0;34m\u001b[0m\u001b[0;34m\u001b[0m\u001b[0m\n\u001b[0m\u001b[1;32m     38\u001b[0m \u001b[0;34m\u001b[0m\u001b[0m\n\u001b[1;32m     39\u001b[0m     \u001b[0;32mdef\u001b[0m \u001b[0mreset\u001b[0m\u001b[0;34m(\u001b[0m\u001b[0mself\u001b[0m\u001b[0;34m)\u001b[0m\u001b[0;34m:\u001b[0m\u001b[0;34m\u001b[0m\u001b[0;34m\u001b[0m\u001b[0m\n",
      "\u001b[0;32m~/.local/lib/python3.10/site-packages/torch/nn/modules/module.py\u001b[0m in \u001b[0;36m_call_impl\u001b[0;34m(self, *input, **kwargs)\u001b[0m\n\u001b[1;32m   1192\u001b[0m         if not (self._backward_hooks or self._forward_hooks or self._forward_pre_hooks or _global_backward_hooks\n\u001b[1;32m   1193\u001b[0m                 or _global_forward_hooks or _global_forward_pre_hooks):\n\u001b[0;32m-> 1194\u001b[0;31m             \u001b[0;32mreturn\u001b[0m \u001b[0mforward_call\u001b[0m\u001b[0;34m(\u001b[0m\u001b[0;34m*\u001b[0m\u001b[0minput\u001b[0m\u001b[0;34m,\u001b[0m \u001b[0;34m**\u001b[0m\u001b[0mkwargs\u001b[0m\u001b[0;34m)\u001b[0m\u001b[0;34m\u001b[0m\u001b[0;34m\u001b[0m\u001b[0m\n\u001b[0m\u001b[1;32m   1195\u001b[0m         \u001b[0;31m# Do not call functions when jit is used\u001b[0m\u001b[0;34m\u001b[0m\u001b[0;34m\u001b[0m\u001b[0m\n\u001b[1;32m   1196\u001b[0m         \u001b[0mfull_backward_hooks\u001b[0m\u001b[0;34m,\u001b[0m \u001b[0mnon_full_backward_hooks\u001b[0m \u001b[0;34m=\u001b[0m \u001b[0;34m[\u001b[0m\u001b[0;34m]\u001b[0m\u001b[0;34m,\u001b[0m \u001b[0;34m[\u001b[0m\u001b[0;34m]\u001b[0m\u001b[0;34m\u001b[0m\u001b[0;34m\u001b[0m\u001b[0m\n",
      "\u001b[0;32m/tmp/ipykernel_15639/291380645.py\u001b[0m in \u001b[0;36mforward\u001b[0;34m(self, x)\u001b[0m\n\u001b[1;32m      9\u001b[0m     \u001b[0;32mdef\u001b[0m \u001b[0mforward\u001b[0m\u001b[0;34m(\u001b[0m\u001b[0mself\u001b[0m\u001b[0;34m,\u001b[0m \u001b[0mx\u001b[0m\u001b[0;34m)\u001b[0m\u001b[0;34m:\u001b[0m\u001b[0;34m\u001b[0m\u001b[0;34m\u001b[0m\u001b[0m\n\u001b[1;32m     10\u001b[0m         \u001b[0mtemp\u001b[0m\u001b[0;34m=\u001b[0m\u001b[0mself\u001b[0m\u001b[0;34m.\u001b[0m\u001b[0mlayers\u001b[0m\u001b[0;34m(\u001b[0m\u001b[0mx\u001b[0m\u001b[0;34m)\u001b[0m\u001b[0;34m\u001b[0m\u001b[0;34m\u001b[0m\u001b[0m\n\u001b[0;32m---> 11\u001b[0;31m         \u001b[0mvalue\u001b[0m\u001b[0;34m=\u001b[0m\u001b[0mself\u001b[0m\u001b[0;34m.\u001b[0m\u001b[0mvalue_head\u001b[0m\u001b[0;34m(\u001b[0m\u001b[0mtemp\u001b[0m\u001b[0;34m)\u001b[0m\u001b[0;34m\u001b[0m\u001b[0;34m\u001b[0m\u001b[0m\n\u001b[0m\u001b[1;32m     12\u001b[0m         \u001b[0madvantage\u001b[0m\u001b[0;34m=\u001b[0m\u001b[0mself\u001b[0m\u001b[0;34m.\u001b[0m\u001b[0madvantage_head\u001b[0m\u001b[0;34m(\u001b[0m\u001b[0mtemp\u001b[0m\u001b[0;34m)\u001b[0m\u001b[0;34m\u001b[0m\u001b[0;34m\u001b[0m\u001b[0m\n\u001b[1;32m     13\u001b[0m         \u001b[0;32mreturn\u001b[0m \u001b[0mvalue\u001b[0m\u001b[0;34m.\u001b[0m\u001b[0mexpand\u001b[0m\u001b[0;34m(\u001b[0m\u001b[0;34m-\u001b[0m\u001b[0;36m1\u001b[0m\u001b[0;34m,\u001b[0m\u001b[0;36m4\u001b[0m\u001b[0;34m)\u001b[0m\u001b[0;34m+\u001b[0m\u001b[0madvantage\u001b[0m\u001b[0;34m-\u001b[0m\u001b[0mtorch\u001b[0m\u001b[0;34m.\u001b[0m\u001b[0mmean\u001b[0m\u001b[0;34m(\u001b[0m\u001b[0madvantage\u001b[0m\u001b[0;34m,\u001b[0m\u001b[0mdim\u001b[0m\u001b[0;34m=\u001b[0m\u001b[0;36m1\u001b[0m\u001b[0;34m)\u001b[0m\u001b[0;34m.\u001b[0m\u001b[0munsqueeze\u001b[0m\u001b[0;34m(\u001b[0m\u001b[0;36m1\u001b[0m\u001b[0;34m)\u001b[0m\u001b[0;34m.\u001b[0m\u001b[0mexpand\u001b[0m\u001b[0;34m(\u001b[0m\u001b[0;34m-\u001b[0m\u001b[0;36m1\u001b[0m\u001b[0;34m,\u001b[0m\u001b[0;36m4\u001b[0m\u001b[0;34m)\u001b[0m\u001b[0;34m\u001b[0m\u001b[0;34m\u001b[0m\u001b[0m\n",
      "\u001b[0;32m~/.local/lib/python3.10/site-packages/torch/nn/modules/module.py\u001b[0m in \u001b[0;36m_call_impl\u001b[0;34m(self, *input, **kwargs)\u001b[0m\n\u001b[1;32m   1192\u001b[0m         if not (self._backward_hooks or self._forward_hooks or self._forward_pre_hooks or _global_backward_hooks\n\u001b[1;32m   1193\u001b[0m                 or _global_forward_hooks or _global_forward_pre_hooks):\n\u001b[0;32m-> 1194\u001b[0;31m             \u001b[0;32mreturn\u001b[0m \u001b[0mforward_call\u001b[0m\u001b[0;34m(\u001b[0m\u001b[0;34m*\u001b[0m\u001b[0minput\u001b[0m\u001b[0;34m,\u001b[0m \u001b[0;34m**\u001b[0m\u001b[0mkwargs\u001b[0m\u001b[0;34m)\u001b[0m\u001b[0;34m\u001b[0m\u001b[0;34m\u001b[0m\u001b[0m\n\u001b[0m\u001b[1;32m   1195\u001b[0m         \u001b[0;31m# Do not call functions when jit is used\u001b[0m\u001b[0;34m\u001b[0m\u001b[0;34m\u001b[0m\u001b[0m\n\u001b[1;32m   1196\u001b[0m         \u001b[0mfull_backward_hooks\u001b[0m\u001b[0;34m,\u001b[0m \u001b[0mnon_full_backward_hooks\u001b[0m \u001b[0;34m=\u001b[0m \u001b[0;34m[\u001b[0m\u001b[0;34m]\u001b[0m\u001b[0;34m,\u001b[0m \u001b[0;34m[\u001b[0m\u001b[0;34m]\u001b[0m\u001b[0;34m\u001b[0m\u001b[0;34m\u001b[0m\u001b[0m\n",
      "\u001b[0;32m/tmp/ipykernel_15639/1296732621.py\u001b[0m in \u001b[0;36mforward\u001b[0;34m(self, x)\u001b[0m\n\u001b[1;32m     26\u001b[0m         \u001b[0mw_noise\u001b[0m\u001b[0;34m,\u001b[0m\u001b[0mb_noise\u001b[0m\u001b[0;34m=\u001b[0m\u001b[0mself\u001b[0m\u001b[0;34m.\u001b[0m\u001b[0mget_noise\u001b[0m\u001b[0;34m(\u001b[0m\u001b[0;34m)\u001b[0m\u001b[0;34m\u001b[0m\u001b[0;34m\u001b[0m\u001b[0m\n\u001b[1;32m     27\u001b[0m         \u001b[0mW\u001b[0m\u001b[0;34m=\u001b[0m\u001b[0mself\u001b[0m\u001b[0;34m.\u001b[0m\u001b[0mw_mu\u001b[0m\u001b[0;34m+\u001b[0m\u001b[0mself\u001b[0m\u001b[0;34m.\u001b[0m\u001b[0msigma_w\u001b[0m\u001b[0;34m*\u001b[0m\u001b[0mw_noise\u001b[0m\u001b[0;34m\u001b[0m\u001b[0;34m\u001b[0m\u001b[0m\n\u001b[0;32m---> 28\u001b[0;31m         \u001b[0mB\u001b[0m\u001b[0;34m=\u001b[0m\u001b[0mself\u001b[0m\u001b[0;34m.\u001b[0m\u001b[0mb_mu\u001b[0m\u001b[0;34m+\u001b[0m\u001b[0mself\u001b[0m\u001b[0;34m.\u001b[0m\u001b[0msigma_b\u001b[0m\u001b[0;34m*\u001b[0m\u001b[0mb_noise\u001b[0m\u001b[0;34m\u001b[0m\u001b[0;34m\u001b[0m\u001b[0m\n\u001b[0m\u001b[1;32m     29\u001b[0m         \u001b[0;32mreturn\u001b[0m \u001b[0mtorch\u001b[0m\u001b[0;34m.\u001b[0m\u001b[0mmatmul\u001b[0m\u001b[0;34m(\u001b[0m\u001b[0mx\u001b[0m\u001b[0;34m,\u001b[0m\u001b[0mW\u001b[0m\u001b[0;34m.\u001b[0m\u001b[0mT\u001b[0m\u001b[0;34m)\u001b[0m\u001b[0;34m+\u001b[0m\u001b[0mB\u001b[0m\u001b[0;34m\u001b[0m\u001b[0;34m\u001b[0m\u001b[0m\n\u001b[1;32m     30\u001b[0m \u001b[0;34m\u001b[0m\u001b[0m\n",
      "\u001b[0;32m~/.local/lib/python3.10/site-packages/torch/nn/modules/module.py\u001b[0m in \u001b[0;36m__getattr__\u001b[0;34m(self, name)\u001b[0m\n\u001b[1;32m   1254\u001b[0m             \u001b[0mself\u001b[0m\u001b[0;34m.\u001b[0m\u001b[0m_is_full_backward_hook\u001b[0m \u001b[0;34m=\u001b[0m \u001b[0;32mNone\u001b[0m\u001b[0;34m\u001b[0m\u001b[0;34m\u001b[0m\u001b[0m\n\u001b[1;32m   1255\u001b[0m \u001b[0;34m\u001b[0m\u001b[0m\n\u001b[0;32m-> 1256\u001b[0;31m     \u001b[0;32mdef\u001b[0m \u001b[0m__getattr__\u001b[0m\u001b[0;34m(\u001b[0m\u001b[0mself\u001b[0m\u001b[0;34m,\u001b[0m \u001b[0mname\u001b[0m\u001b[0;34m:\u001b[0m \u001b[0mstr\u001b[0m\u001b[0;34m)\u001b[0m \u001b[0;34m->\u001b[0m \u001b[0mUnion\u001b[0m\u001b[0;34m[\u001b[0m\u001b[0mTensor\u001b[0m\u001b[0;34m,\u001b[0m \u001b[0;34m'Module'\u001b[0m\u001b[0;34m]\u001b[0m\u001b[0;34m:\u001b[0m\u001b[0;34m\u001b[0m\u001b[0;34m\u001b[0m\u001b[0m\n\u001b[0m\u001b[1;32m   1257\u001b[0m         \u001b[0;32mif\u001b[0m \u001b[0;34m'_parameters'\u001b[0m \u001b[0;32min\u001b[0m \u001b[0mself\u001b[0m\u001b[0;34m.\u001b[0m\u001b[0m__dict__\u001b[0m\u001b[0;34m:\u001b[0m\u001b[0;34m\u001b[0m\u001b[0;34m\u001b[0m\u001b[0m\n\u001b[1;32m   1258\u001b[0m             \u001b[0m_parameters\u001b[0m \u001b[0;34m=\u001b[0m \u001b[0mself\u001b[0m\u001b[0;34m.\u001b[0m\u001b[0m__dict__\u001b[0m\u001b[0;34m[\u001b[0m\u001b[0;34m'_parameters'\u001b[0m\u001b[0;34m]\u001b[0m\u001b[0;34m\u001b[0m\u001b[0;34m\u001b[0m\u001b[0m\n",
      "\u001b[0;31mKeyboardInterrupt\u001b[0m: "
     ]
    }
   ],
   "source": [
    "agent = RainbowDQN(args)\n",
    "results_dqn6 = train_agent(args, agent)\n",
    "download_numpy(\"results_dqn6.npy\", results_dqn6)\n",
    "results_dqn6.mean(1)[-10:].mean()"
   ]
  },
  {
   "cell_type": "markdown",
   "id": "5a39b8c3",
   "metadata": {
    "id": "5a39b8c3"
   },
   "source": [
    "# Task 7 Plot collected results\n",
    "Plot evaluation performance with respect to number of frames for all versions of DQN (including raw one). Draw 90% confidence intervals for each line (see seaborn.lineplot)."
   ]
  },
  {
   "cell_type": "code",
   "execution_count": 291,
   "id": "973eef36",
   "metadata": {},
   "outputs": [
    {
     "data": {
      "text/plain": [
       "<matplotlib.legend.Legend at 0x7f51d80eac80>"
      ]
     },
     "execution_count": 291,
     "metadata": {},
     "output_type": "execute_result"
    },
    {
     "data": {
      "image/png": "[encoded data removed]",
      "text/plain": [
       "<Figure size 1440x720 with 1 Axes>"
      ]
     },
     "metadata": {
      "needs_background": "light"
     },
     "output_type": "display_data"
    }
   ],
   "source": [
    "from matplotlib import pyplot as plt\n",
    "fig=plt.figure(figsize=(20,10))\n",
    "ax=plt.gca()\n",
    "ax.grid()\n",
    "ax.plot(np.mean(results_dqn,axis=1),label=\"DQN\")\n",
    "ax.plot(np.mean(results_dqn1,axis=1),label=\"DDQN\")\n",
    "ax.plot(np.mean(results_dqn2,axis=1),label=\"N-steps\")\n",
    "ax.plot(np.mean(results_dqn3,axis=1),label=\"Noisy\")\n",
    "ax.plot(np.mean(results_dqn4,axis=1),label=\"Dueling\")\n",
    "ax.plot(np.mean(results_dqn5,axis=1),label=\"Priority\")\n",
    "ax.legend()"
   ]
  },
  {
   "cell_type": "code",
   "execution_count": null,
   "id": "8fce5654",
   "metadata": {},
   "outputs": [],
   "source": []
  }
 ],
 "metadata": {
  "colab": {
   "provenance": []
  },
  "gpuClass": "standard",
  "kernelspec": {
   "display_name": "Python 3",
   "language": "python",
   "name": "python3"
  },
  "language_info": {
   "codemirror_mode": {
    "name": "ipython",
    "version": 3
   },
   "file_extension": ".py",
   "mimetype": "text/x-python",
   "name": "python",
   "nbconvert_exporter": "python",
   "pygments_lexer": "ipython3",
   "version": "3.10.6"
  },
  "vscode": {
   "interpreter": {
    "hash": "767d51c1340bd893661ea55ea3124f6de3c7a262a8b4abca0554b478b1e2ff90"
   }
  }
 },
 "nbformat": 4,
 "nbformat_minor": 5
}
